{
 "cells": [
  {
   "cell_type": "code",
   "execution_count": 1,
   "id": "daa34218",
   "metadata": {},
   "outputs": [],
   "source": [
    "import os \n",
    "import pandas as pd \n",
    "import numpy as np \n",
    "import matplotlib.pyplot as plt \n",
    "%matplotlib inline   # To see the visualization within the notebook "
   ]
  },
  {
   "cell_type": "code",
   "execution_count": 3,
   "id": "82fa45b6",
   "metadata": {},
   "outputs": [],
   "source": [
    "data = pd.read_csv(\"C:/JS/Clustering_Python/Song_Football1.csv\", encoding='latin-1')"
   ]
  },
  {
   "cell_type": "code",
   "execution_count": 4,
   "id": "5a55eda9",
   "metadata": {},
   "outputs": [
    {
     "data": {
      "text/html": [
       "<div>\n",
       "<style scoped>\n",
       "    .dataframe tbody tr th:only-of-type {\n",
       "        vertical-align: middle;\n",
       "    }\n",
       "\n",
       "    .dataframe tbody tr th {\n",
       "        vertical-align: top;\n",
       "    }\n",
       "\n",
       "    .dataframe thead th {\n",
       "        text-align: right;\n",
       "    }\n",
       "</style>\n",
       "<table border=\"1\" class=\"dataframe\">\n",
       "  <thead>\n",
       "    <tr style=\"text-align: right;\">\n",
       "      <th></th>\n",
       "      <th>Player Id</th>\n",
       "      <th>Tackles</th>\n",
       "      <th>wontackles</th>\n",
       "      <th>duels</th>\n",
       "      <th>wonduels</th>\n",
       "      <th>passes</th>\n",
       "      <th>wonpasses</th>\n",
       "      <th>interception</th>\n",
       "      <th>First_Name</th>\n",
       "      <th>Last_Name</th>\n",
       "    </tr>\n",
       "  </thead>\n",
       "  <tbody>\n",
       "    <tr>\n",
       "      <th>0</th>\n",
       "      <td>3</td>\n",
       "      <td>28</td>\n",
       "      <td>0.642857</td>\n",
       "      <td>170</td>\n",
       "      <td>0.394118</td>\n",
       "      <td>1108</td>\n",
       "      <td>0.753610</td>\n",
       "      <td>30</td>\n",
       "      <td>Giggs</td>\n",
       "      <td>Ryan</td>\n",
       "    </tr>\n",
       "    <tr>\n",
       "      <th>1</th>\n",
       "      <td>363</td>\n",
       "      <td>39</td>\n",
       "      <td>0.641026</td>\n",
       "      <td>107</td>\n",
       "      <td>0.532710</td>\n",
       "      <td>1137</td>\n",
       "      <td>0.930519</td>\n",
       "      <td>24</td>\n",
       "      <td>Scholes</td>\n",
       "      <td>Paul</td>\n",
       "    </tr>\n",
       "    <tr>\n",
       "      <th>2</th>\n",
       "      <td>973</td>\n",
       "      <td>32</td>\n",
       "      <td>0.656250</td>\n",
       "      <td>104</td>\n",
       "      <td>0.625000</td>\n",
       "      <td>297</td>\n",
       "      <td>0.713805</td>\n",
       "      <td>23</td>\n",
       "      <td>Woodgate</td>\n",
       "      <td>Jonathan</td>\n",
       "    </tr>\n",
       "    <tr>\n",
       "      <th>3</th>\n",
       "      <td>1059</td>\n",
       "      <td>28</td>\n",
       "      <td>0.785714</td>\n",
       "      <td>135</td>\n",
       "      <td>0.577778</td>\n",
       "      <td>424</td>\n",
       "      <td>0.738208</td>\n",
       "      <td>32</td>\n",
       "      <td>Gabbidon</td>\n",
       "      <td>Daniel</td>\n",
       "    </tr>\n",
       "    <tr>\n",
       "      <th>4</th>\n",
       "      <td>1131</td>\n",
       "      <td>12</td>\n",
       "      <td>0.916667</td>\n",
       "      <td>58</td>\n",
       "      <td>0.620690</td>\n",
       "      <td>232</td>\n",
       "      <td>0.780172</td>\n",
       "      <td>14</td>\n",
       "      <td>Bramble</td>\n",
       "      <td>Titus</td>\n",
       "    </tr>\n",
       "  </tbody>\n",
       "</table>\n",
       "</div>"
      ],
      "text/plain": [
       "   Player Id  Tackles  wontackles  duels  wonduels  passes  wonpasses  \\\n",
       "0          3       28    0.642857    170  0.394118    1108   0.753610   \n",
       "1        363       39    0.641026    107  0.532710    1137   0.930519   \n",
       "2        973       32    0.656250    104  0.625000     297   0.713805   \n",
       "3       1059       28    0.785714    135  0.577778     424   0.738208   \n",
       "4       1131       12    0.916667     58  0.620690     232   0.780172   \n",
       "\n",
       "   interception First_Name Last_Name  \n",
       "0            30      Giggs      Ryan  \n",
       "1            24    Scholes      Paul  \n",
       "2            23   Woodgate  Jonathan  \n",
       "3            32   Gabbidon    Daniel  \n",
       "4            14    Bramble     Titus  "
      ]
     },
     "execution_count": 4,
     "metadata": {},
     "output_type": "execute_result"
    }
   ],
   "source": [
    "data.head()"
   ]
  },
  {
   "cell_type": "code",
   "execution_count": null,
   "id": "4ef1d1f4",
   "metadata": {},
   "outputs": [],
   "source": [
    "# Player name - \"Song\" he is not fit \n",
    "# Similarity criteria for football players \n",
    "# Depending on role\n",
    "# Successful Defends \n",
    "# shots\n",
    "# passes\n",
    "# Height\n",
    "# Weight \n",
    "# Age\n",
    "# ....."
   ]
  },
  {
   "cell_type": "code",
   "execution_count": 5,
   "id": "53d2ee7c",
   "metadata": {},
   "outputs": [
    {
     "data": {
      "text/plain": [
       "(480, 10)"
      ]
     },
     "execution_count": 5,
     "metadata": {},
     "output_type": "execute_result"
    }
   ],
   "source": [
    "data.shape  # 480 rows and 10 column \n",
    "\n",
    "# Should I create less cluster, let's say 5  => On an average 100 players in each cluster \n",
    "# Should I create more cluster, let's say 20 => On an average 25 players in each cluster "
   ]
  },
  {
   "cell_type": "code",
   "execution_count": 6,
   "id": "f8f7d5c5",
   "metadata": {},
   "outputs": [
    {
     "data": {
      "text/html": [
       "<div>\n",
       "<style scoped>\n",
       "    .dataframe tbody tr th:only-of-type {\n",
       "        vertical-align: middle;\n",
       "    }\n",
       "\n",
       "    .dataframe tbody tr th {\n",
       "        vertical-align: top;\n",
       "    }\n",
       "\n",
       "    .dataframe thead th {\n",
       "        text-align: right;\n",
       "    }\n",
       "</style>\n",
       "<table border=\"1\" class=\"dataframe\">\n",
       "  <thead>\n",
       "    <tr style=\"text-align: right;\">\n",
       "      <th></th>\n",
       "      <th>Player Id</th>\n",
       "      <th>Tackles</th>\n",
       "      <th>wontackles</th>\n",
       "      <th>duels</th>\n",
       "      <th>wonduels</th>\n",
       "      <th>passes</th>\n",
       "      <th>wonpasses</th>\n",
       "      <th>interception</th>\n",
       "      <th>First_Name</th>\n",
       "      <th>Last_Name</th>\n",
       "    </tr>\n",
       "  </thead>\n",
       "  <tbody>\n",
       "    <tr>\n",
       "      <th>263</th>\n",
       "      <td>21091</td>\n",
       "      <td>100</td>\n",
       "      <td>0.73</td>\n",
       "      <td>396</td>\n",
       "      <td>0.474747</td>\n",
       "      <td>2261</td>\n",
       "      <td>0.839894</td>\n",
       "      <td>66</td>\n",
       "      <td>Song</td>\n",
       "      <td>Alexandre</td>\n",
       "    </tr>\n",
       "  </tbody>\n",
       "</table>\n",
       "</div>"
      ],
      "text/plain": [
       "     Player Id  Tackles  wontackles  duels  wonduels  passes  wonpasses  \\\n",
       "263      21091      100        0.73    396  0.474747    2261   0.839894   \n",
       "\n",
       "     interception First_Name  Last_Name  \n",
       "263            66       Song  Alexandre  "
      ]
     },
     "execution_count": 6,
     "metadata": {},
     "output_type": "execute_result"
    }
   ],
   "source": [
    "# Let's take a look at the data for player song \n",
    "data.loc[data['First_Name'] == \"Song\"]"
   ]
  },
  {
   "cell_type": "code",
   "execution_count": 7,
   "id": "2813b04c",
   "metadata": {},
   "outputs": [
    {
     "data": {
      "text/html": [
       "<div>\n",
       "<style scoped>\n",
       "    .dataframe tbody tr th:only-of-type {\n",
       "        vertical-align: middle;\n",
       "    }\n",
       "\n",
       "    .dataframe tbody tr th {\n",
       "        vertical-align: top;\n",
       "    }\n",
       "\n",
       "    .dataframe thead th {\n",
       "        text-align: right;\n",
       "    }\n",
       "</style>\n",
       "<table border=\"1\" class=\"dataframe\">\n",
       "  <thead>\n",
       "    <tr style=\"text-align: right;\">\n",
       "      <th></th>\n",
       "      <th>Player Id</th>\n",
       "      <th>Tackles</th>\n",
       "      <th>wontackles</th>\n",
       "      <th>duels</th>\n",
       "      <th>wonduels</th>\n",
       "      <th>passes</th>\n",
       "      <th>wonpasses</th>\n",
       "      <th>interception</th>\n",
       "      <th>First_Name</th>\n",
       "      <th>Last_Name</th>\n",
       "    </tr>\n",
       "  </thead>\n",
       "  <tbody>\n",
       "    <tr>\n",
       "      <th>260</th>\n",
       "      <td>20695</td>\n",
       "      <td>66</td>\n",
       "      <td>0.787879</td>\n",
       "      <td>294</td>\n",
       "      <td>0.435374</td>\n",
       "      <td>1384</td>\n",
       "      <td>0.778179</td>\n",
       "      <td>29</td>\n",
       "      <td>Antonio Valencia</td>\n",
       "      <td>0</td>\n",
       "    </tr>\n",
       "    <tr>\n",
       "      <th>261</th>\n",
       "      <td>21060</td>\n",
       "      <td>85</td>\n",
       "      <td>0.811765</td>\n",
       "      <td>465</td>\n",
       "      <td>0.475269</td>\n",
       "      <td>1318</td>\n",
       "      <td>0.751138</td>\n",
       "      <td>74</td>\n",
       "      <td>Gutiérrez</td>\n",
       "      <td>Jonás</td>\n",
       "    </tr>\n",
       "    <tr>\n",
       "      <th>262</th>\n",
       "      <td>21083</td>\n",
       "      <td>62</td>\n",
       "      <td>0.725806</td>\n",
       "      <td>426</td>\n",
       "      <td>0.462441</td>\n",
       "      <td>1112</td>\n",
       "      <td>0.791367</td>\n",
       "      <td>42</td>\n",
       "      <td>Dyer</td>\n",
       "      <td>Nathan</td>\n",
       "    </tr>\n",
       "    <tr>\n",
       "      <th>263</th>\n",
       "      <td>21091</td>\n",
       "      <td>100</td>\n",
       "      <td>0.730000</td>\n",
       "      <td>396</td>\n",
       "      <td>0.474747</td>\n",
       "      <td>2261</td>\n",
       "      <td>0.839894</td>\n",
       "      <td>66</td>\n",
       "      <td>Song</td>\n",
       "      <td>Alexandre</td>\n",
       "    </tr>\n",
       "    <tr>\n",
       "      <th>264</th>\n",
       "      <td>21094</td>\n",
       "      <td>32</td>\n",
       "      <td>0.656250</td>\n",
       "      <td>164</td>\n",
       "      <td>0.670732</td>\n",
       "      <td>1055</td>\n",
       "      <td>0.841706</td>\n",
       "      <td>59</td>\n",
       "      <td>Agger</td>\n",
       "      <td>Daniel</td>\n",
       "    </tr>\n",
       "    <tr>\n",
       "      <th>265</th>\n",
       "      <td>26725</td>\n",
       "      <td>69</td>\n",
       "      <td>0.811594</td>\n",
       "      <td>278</td>\n",
       "      <td>0.561151</td>\n",
       "      <td>1963</td>\n",
       "      <td>0.764646</td>\n",
       "      <td>31</td>\n",
       "      <td>José Enrique</td>\n",
       "      <td>0</td>\n",
       "    </tr>\n",
       "    <tr>\n",
       "      <th>266</th>\n",
       "      <td>26793</td>\n",
       "      <td>57</td>\n",
       "      <td>0.754386</td>\n",
       "      <td>228</td>\n",
       "      <td>0.684211</td>\n",
       "      <td>1508</td>\n",
       "      <td>0.831565</td>\n",
       "      <td>49</td>\n",
       "      <td>Skrtel</td>\n",
       "      <td>Martin</td>\n",
       "    </tr>\n",
       "    <tr>\n",
       "      <th>267</th>\n",
       "      <td>26900</td>\n",
       "      <td>25</td>\n",
       "      <td>0.800000</td>\n",
       "      <td>260</td>\n",
       "      <td>0.330769</td>\n",
       "      <td>851</td>\n",
       "      <td>0.736780</td>\n",
       "      <td>24</td>\n",
       "      <td>Odemwingie</td>\n",
       "      <td>Peter</td>\n",
       "    </tr>\n",
       "    <tr>\n",
       "      <th>268</th>\n",
       "      <td>27258</td>\n",
       "      <td>23</td>\n",
       "      <td>0.695652</td>\n",
       "      <td>73</td>\n",
       "      <td>0.465753</td>\n",
       "      <td>530</td>\n",
       "      <td>0.841509</td>\n",
       "      <td>15</td>\n",
       "      <td>Anderson</td>\n",
       "      <td>0</td>\n",
       "    </tr>\n",
       "    <tr>\n",
       "      <th>269</th>\n",
       "      <td>27341</td>\n",
       "      <td>117</td>\n",
       "      <td>0.709402</td>\n",
       "      <td>272</td>\n",
       "      <td>0.555147</td>\n",
       "      <td>1584</td>\n",
       "      <td>0.760732</td>\n",
       "      <td>89</td>\n",
       "      <td>Cabaye</td>\n",
       "      <td>Yohan</td>\n",
       "    </tr>\n",
       "  </tbody>\n",
       "</table>\n",
       "</div>"
      ],
      "text/plain": [
       "     Player Id  Tackles  wontackles  duels  wonduels  passes  wonpasses  \\\n",
       "260      20695       66    0.787879    294  0.435374    1384   0.778179   \n",
       "261      21060       85    0.811765    465  0.475269    1318   0.751138   \n",
       "262      21083       62    0.725806    426  0.462441    1112   0.791367   \n",
       "263      21091      100    0.730000    396  0.474747    2261   0.839894   \n",
       "264      21094       32    0.656250    164  0.670732    1055   0.841706   \n",
       "265      26725       69    0.811594    278  0.561151    1963   0.764646   \n",
       "266      26793       57    0.754386    228  0.684211    1508   0.831565   \n",
       "267      26900       25    0.800000    260  0.330769     851   0.736780   \n",
       "268      27258       23    0.695652     73  0.465753     530   0.841509   \n",
       "269      27341      117    0.709402    272  0.555147    1584   0.760732   \n",
       "\n",
       "     interception        First_Name  Last_Name  \n",
       "260            29  Antonio Valencia          0  \n",
       "261            74         Gutiérrez      Jonás  \n",
       "262            42              Dyer     Nathan  \n",
       "263            66              Song  Alexandre  \n",
       "264            59             Agger     Daniel  \n",
       "265            31      José Enrique          0  \n",
       "266            49            Skrtel     Martin  \n",
       "267            24        Odemwingie      Peter  \n",
       "268            15          Anderson          0  \n",
       "269            89            Cabaye      Yohan  "
      ]
     },
     "execution_count": 7,
     "metadata": {},
     "output_type": "execute_result"
    }
   ],
   "source": [
    "# Let's find out the subsitute player manually \n",
    "# let's pick the record number 260 to 270 \n",
    "data.iloc[260:270,]"
   ]
  },
  {
   "cell_type": "code",
   "execution_count": 8,
   "id": "b39ab738",
   "metadata": {},
   "outputs": [
    {
     "data": {
      "text/plain": [
       "Index(['Player Id', 'Tackles', 'wontackles', 'duels', 'wonduels', 'passes',\n",
       "       'wonpasses', 'interception', 'First_Name', 'Last_Name'],\n",
       "      dtype='object')"
      ]
     },
     "execution_count": 8,
     "metadata": {},
     "output_type": "execute_result"
    }
   ],
   "source": [
    "# Create a dataframe with only similarity parameters \n",
    "data.columns"
   ]
  },
  {
   "cell_type": "code",
   "execution_count": 9,
   "id": "f7d99347",
   "metadata": {},
   "outputs": [],
   "source": [
    "data_num = data[[ 'Tackles', 'wontackles', 'duels', 'wonduels', 'passes','wonpasses', 'interception']]"
   ]
  },
  {
   "cell_type": "code",
   "execution_count": 10,
   "id": "c2da42f3",
   "metadata": {},
   "outputs": [
    {
     "data": {
      "text/html": [
       "<div>\n",
       "<style scoped>\n",
       "    .dataframe tbody tr th:only-of-type {\n",
       "        vertical-align: middle;\n",
       "    }\n",
       "\n",
       "    .dataframe tbody tr th {\n",
       "        vertical-align: top;\n",
       "    }\n",
       "\n",
       "    .dataframe thead th {\n",
       "        text-align: right;\n",
       "    }\n",
       "</style>\n",
       "<table border=\"1\" class=\"dataframe\">\n",
       "  <thead>\n",
       "    <tr style=\"text-align: right;\">\n",
       "      <th></th>\n",
       "      <th>Tackles</th>\n",
       "      <th>wontackles</th>\n",
       "      <th>duels</th>\n",
       "      <th>wonduels</th>\n",
       "      <th>passes</th>\n",
       "      <th>wonpasses</th>\n",
       "      <th>interception</th>\n",
       "    </tr>\n",
       "  </thead>\n",
       "  <tbody>\n",
       "    <tr>\n",
       "      <th>0</th>\n",
       "      <td>28</td>\n",
       "      <td>0.642857</td>\n",
       "      <td>170</td>\n",
       "      <td>0.394118</td>\n",
       "      <td>1108</td>\n",
       "      <td>0.753610</td>\n",
       "      <td>30</td>\n",
       "    </tr>\n",
       "    <tr>\n",
       "      <th>1</th>\n",
       "      <td>39</td>\n",
       "      <td>0.641026</td>\n",
       "      <td>107</td>\n",
       "      <td>0.532710</td>\n",
       "      <td>1137</td>\n",
       "      <td>0.930519</td>\n",
       "      <td>24</td>\n",
       "    </tr>\n",
       "    <tr>\n",
       "      <th>2</th>\n",
       "      <td>32</td>\n",
       "      <td>0.656250</td>\n",
       "      <td>104</td>\n",
       "      <td>0.625000</td>\n",
       "      <td>297</td>\n",
       "      <td>0.713805</td>\n",
       "      <td>23</td>\n",
       "    </tr>\n",
       "    <tr>\n",
       "      <th>3</th>\n",
       "      <td>28</td>\n",
       "      <td>0.785714</td>\n",
       "      <td>135</td>\n",
       "      <td>0.577778</td>\n",
       "      <td>424</td>\n",
       "      <td>0.738208</td>\n",
       "      <td>32</td>\n",
       "    </tr>\n",
       "    <tr>\n",
       "      <th>4</th>\n",
       "      <td>12</td>\n",
       "      <td>0.916667</td>\n",
       "      <td>58</td>\n",
       "      <td>0.620690</td>\n",
       "      <td>232</td>\n",
       "      <td>0.780172</td>\n",
       "      <td>14</td>\n",
       "    </tr>\n",
       "  </tbody>\n",
       "</table>\n",
       "</div>"
      ],
      "text/plain": [
       "   Tackles  wontackles  duels  wonduels  passes  wonpasses  interception\n",
       "0       28    0.642857    170  0.394118    1108   0.753610            30\n",
       "1       39    0.641026    107  0.532710    1137   0.930519            24\n",
       "2       32    0.656250    104  0.625000     297   0.713805            23\n",
       "3       28    0.785714    135  0.577778     424   0.738208            32\n",
       "4       12    0.916667     58  0.620690     232   0.780172            14"
      ]
     },
     "execution_count": 10,
     "metadata": {},
     "output_type": "execute_result"
    }
   ],
   "source": [
    "data_num.head()"
   ]
  },
  {
   "cell_type": "code",
   "execution_count": null,
   "id": "5e8d5784",
   "metadata": {},
   "outputs": [],
   "source": [
    "# Two special data processing steps:\n",
    "\n",
    "# 1 - Scaling  => To bring all features in the same scale \n",
    "# Person   #Salary      #Kids \n",
    "# 1         50001        1 \n",
    "# 2         50005        5 \n",
    "           # ( ~4)      # (~4)\n",
    "\n",
    "# 2 - Weighing "
   ]
  },
  {
   "cell_type": "code",
   "execution_count": 12,
   "id": "76ceda03",
   "metadata": {},
   "outputs": [],
   "source": [
    "import sklearn.preprocessing as preprocessing\n",
    "data_scaled = preprocessing.scale(data_num, axis = 0)"
   ]
  },
  {
   "cell_type": "code",
   "execution_count": 13,
   "id": "7372ae31",
   "metadata": {},
   "outputs": [
    {
     "data": {
      "text/plain": [
       "array([[-0.07161472, -0.55356335,  0.19231802, ...,  0.72211922,\n",
       "        -0.0331406 ,  0.20763391],\n",
       "       [ 0.36102342, -0.56411628, -0.36985665, ...,  0.7741784 ,\n",
       "         1.87028208, -0.05452552],\n",
       "       [ 0.08570824, -0.47639505, -0.39662688, ..., -0.73374278,\n",
       "        -0.46142054, -0.09821876],\n",
       "       ...,\n",
       "       [-0.81889878,  0.22383583, -1.07480585, ..., -1.09815706,\n",
       "        -3.10520237, -0.88469705],\n",
       "       [-1.01555248, -1.37669189, -1.253274  , ..., -1.21663658,\n",
       "         0.69654158, -1.10316324],\n",
       "       [-1.05488322, -0.41637526, -1.23542719, ..., -1.2417686 ,\n",
       "         1.08080388, -1.05947   ]])"
      ]
     },
     "execution_count": 13,
     "metadata": {},
     "output_type": "execute_result"
    }
   ],
   "source": [
    "data_scaled"
   ]
  },
  {
   "cell_type": "code",
   "execution_count": 15,
   "id": "7170adb9",
   "metadata": {},
   "outputs": [
    {
     "data": {
      "text/html": [
       "<div>\n",
       "<style scoped>\n",
       "    .dataframe tbody tr th:only-of-type {\n",
       "        vertical-align: middle;\n",
       "    }\n",
       "\n",
       "    .dataframe tbody tr th {\n",
       "        vertical-align: top;\n",
       "    }\n",
       "\n",
       "    .dataframe thead th {\n",
       "        text-align: right;\n",
       "    }\n",
       "</style>\n",
       "<table border=\"1\" class=\"dataframe\">\n",
       "  <thead>\n",
       "    <tr style=\"text-align: right;\">\n",
       "      <th></th>\n",
       "      <th>Tackles</th>\n",
       "      <th>wontackles</th>\n",
       "      <th>duels</th>\n",
       "      <th>wonduels</th>\n",
       "      <th>passes</th>\n",
       "      <th>wonpasses</th>\n",
       "      <th>interception</th>\n",
       "    </tr>\n",
       "  </thead>\n",
       "  <tbody>\n",
       "    <tr>\n",
       "      <th>0</th>\n",
       "      <td>28</td>\n",
       "      <td>0.642857</td>\n",
       "      <td>170</td>\n",
       "      <td>0.394118</td>\n",
       "      <td>1108</td>\n",
       "      <td>0.753610</td>\n",
       "      <td>30</td>\n",
       "    </tr>\n",
       "    <tr>\n",
       "      <th>1</th>\n",
       "      <td>39</td>\n",
       "      <td>0.641026</td>\n",
       "      <td>107</td>\n",
       "      <td>0.532710</td>\n",
       "      <td>1137</td>\n",
       "      <td>0.930519</td>\n",
       "      <td>24</td>\n",
       "    </tr>\n",
       "  </tbody>\n",
       "</table>\n",
       "</div>"
      ],
      "text/plain": [
       "   Tackles  wontackles  duels  wonduels  passes  wonpasses  interception\n",
       "0       28    0.642857    170  0.394118    1108   0.753610            30\n",
       "1       39    0.641026    107  0.532710    1137   0.930519            24"
      ]
     },
     "execution_count": 15,
     "metadata": {},
     "output_type": "execute_result"
    }
   ],
   "source": [
    "data_num.head(2)"
   ]
  },
  {
   "cell_type": "code",
   "execution_count": 14,
   "id": "8eaa5d26",
   "metadata": {},
   "outputs": [
    {
     "data": {
      "text/plain": [
       "-0.07161472215323064"
      ]
     },
     "execution_count": 14,
     "metadata": {},
     "output_type": "execute_result"
    }
   ],
   "source": [
    "# Scaling is also known as normalization/ standardization of data or Z-scoring of data \n",
    "# ( value - mean of the col)/ stddev of column \n",
    "( 28 - np.mean(data_num['Tackles']))/np.std(data_num['Tackles'])"
   ]
  },
  {
   "cell_type": "code",
   "execution_count": 16,
   "id": "48a10176",
   "metadata": {},
   "outputs": [
    {
     "data": {
      "text/plain": [
       "0.3610234162553024"
      ]
     },
     "execution_count": 16,
     "metadata": {},
     "output_type": "execute_result"
    }
   ],
   "source": [
    "( 39 - np.mean(data_num['Tackles']))/np.std(data_num['Tackles'])"
   ]
  },
  {
   "cell_type": "code",
   "execution_count": null,
   "id": "4fbb62e7",
   "metadata": {},
   "outputs": [],
   "source": [
    "# DP1 = ( 10000, 5, 0.5, 20)\n",
    "# DP2 = ( 15000, 7, 0.7, 25)"
   ]
  },
  {
   "cell_type": "code",
   "execution_count": null,
   "id": "d21c496a",
   "metadata": {},
   "outputs": [],
   "source": [
    "# Weighing of data => To give importance to one of the feature \n",
    "# Number of credit cards          # Number of marriages \n",
    "#    1*5  =  5                                1\n",
    "#    2*5  = 10                                2 \n",
    "#    5*5  = 25                                3 \n",
    "\n",
    "# In order to apply weight, we will multiply that column with a constant value \n",
    "\n",
    "# Approach \n",
    "# Start with a weight of 3 \n",
    "# Build clusters \n",
    "# Do profiling and check the homogeneous nature of the weighted column, if acceptable okay \n",
    "# else\n",
    "# Increase weight to 5 \n",
    "# .... \n",
    "#.... \n"
   ]
  },
  {
   "cell_type": "code",
   "execution_count": null,
   "id": "c6f5ee38",
   "metadata": {},
   "outputs": [],
   "source": [
    "# Does order makes a difference \n",
    "# Can I do scaling first and then weighing ? \n",
    "# or its okay to weight first and than scale ?\n",
    "\n",
    "# Always scaling first and than weighing "
   ]
  },
  {
   "cell_type": "code",
   "execution_count": 17,
   "id": "3fa36d09",
   "metadata": {},
   "outputs": [
    {
     "data": {
      "text/html": [
       "<div>\n",
       "<style scoped>\n",
       "    .dataframe tbody tr th:only-of-type {\n",
       "        vertical-align: middle;\n",
       "    }\n",
       "\n",
       "    .dataframe tbody tr th {\n",
       "        vertical-align: top;\n",
       "    }\n",
       "\n",
       "    .dataframe thead th {\n",
       "        text-align: right;\n",
       "    }\n",
       "</style>\n",
       "<table border=\"1\" class=\"dataframe\">\n",
       "  <thead>\n",
       "    <tr style=\"text-align: right;\">\n",
       "      <th></th>\n",
       "      <th>Tackles</th>\n",
       "      <th>wontackles</th>\n",
       "      <th>duels</th>\n",
       "      <th>wonduels</th>\n",
       "      <th>passes</th>\n",
       "      <th>wonpasses</th>\n",
       "      <th>interception</th>\n",
       "    </tr>\n",
       "  </thead>\n",
       "  <tbody>\n",
       "    <tr>\n",
       "      <th>0</th>\n",
       "      <td>28</td>\n",
       "      <td>0.642857</td>\n",
       "      <td>170</td>\n",
       "      <td>0.394118</td>\n",
       "      <td>1108</td>\n",
       "      <td>0.753610</td>\n",
       "      <td>30</td>\n",
       "    </tr>\n",
       "    <tr>\n",
       "      <th>1</th>\n",
       "      <td>39</td>\n",
       "      <td>0.641026</td>\n",
       "      <td>107</td>\n",
       "      <td>0.532710</td>\n",
       "      <td>1137</td>\n",
       "      <td>0.930519</td>\n",
       "      <td>24</td>\n",
       "    </tr>\n",
       "    <tr>\n",
       "      <th>2</th>\n",
       "      <td>32</td>\n",
       "      <td>0.656250</td>\n",
       "      <td>104</td>\n",
       "      <td>0.625000</td>\n",
       "      <td>297</td>\n",
       "      <td>0.713805</td>\n",
       "      <td>23</td>\n",
       "    </tr>\n",
       "    <tr>\n",
       "      <th>3</th>\n",
       "      <td>28</td>\n",
       "      <td>0.785714</td>\n",
       "      <td>135</td>\n",
       "      <td>0.577778</td>\n",
       "      <td>424</td>\n",
       "      <td>0.738208</td>\n",
       "      <td>32</td>\n",
       "    </tr>\n",
       "    <tr>\n",
       "      <th>4</th>\n",
       "      <td>12</td>\n",
       "      <td>0.916667</td>\n",
       "      <td>58</td>\n",
       "      <td>0.620690</td>\n",
       "      <td>232</td>\n",
       "      <td>0.780172</td>\n",
       "      <td>14</td>\n",
       "    </tr>\n",
       "  </tbody>\n",
       "</table>\n",
       "</div>"
      ],
      "text/plain": [
       "   Tackles  wontackles  duels  wonduels  passes  wonpasses  interception\n",
       "0       28    0.642857    170  0.394118    1108   0.753610            30\n",
       "1       39    0.641026    107  0.532710    1137   0.930519            24\n",
       "2       32    0.656250    104  0.625000     297   0.713805            23\n",
       "3       28    0.785714    135  0.577778     424   0.738208            32\n",
       "4       12    0.916667     58  0.620690     232   0.780172            14"
      ]
     },
     "execution_count": 17,
     "metadata": {},
     "output_type": "execute_result"
    }
   ],
   "source": [
    "# To apply weight \n",
    "data_num.head()"
   ]
  },
  {
   "cell_type": "code",
   "execution_count": 18,
   "id": "43a55aba",
   "metadata": {},
   "outputs": [
    {
     "name": "stderr",
     "output_type": "stream",
     "text": [
      "<ipython-input-18-a00ba4d80c65>:1: SettingWithCopyWarning: \n",
      "A value is trying to be set on a copy of a slice from a DataFrame.\n",
      "Try using .loc[row_indexer,col_indexer] = value instead\n",
      "\n",
      "See the caveats in the documentation: https://pandas.pydata.org/pandas-docs/stable/user_guide/indexing.html#returning-a-view-versus-a-copy\n",
      "  data_num['Tackles3'] = data_num['Tackles']*3\n"
     ]
    }
   ],
   "source": [
    "data_num['Tackles3'] = data_num['Tackles']*3"
   ]
  },
  {
   "cell_type": "code",
   "execution_count": 19,
   "id": "88bdbab6",
   "metadata": {},
   "outputs": [
    {
     "data": {
      "text/html": [
       "<div>\n",
       "<style scoped>\n",
       "    .dataframe tbody tr th:only-of-type {\n",
       "        vertical-align: middle;\n",
       "    }\n",
       "\n",
       "    .dataframe tbody tr th {\n",
       "        vertical-align: top;\n",
       "    }\n",
       "\n",
       "    .dataframe thead th {\n",
       "        text-align: right;\n",
       "    }\n",
       "</style>\n",
       "<table border=\"1\" class=\"dataframe\">\n",
       "  <thead>\n",
       "    <tr style=\"text-align: right;\">\n",
       "      <th></th>\n",
       "      <th>Tackles</th>\n",
       "      <th>wontackles</th>\n",
       "      <th>duels</th>\n",
       "      <th>wonduels</th>\n",
       "      <th>passes</th>\n",
       "      <th>wonpasses</th>\n",
       "      <th>interception</th>\n",
       "      <th>Tackles3</th>\n",
       "    </tr>\n",
       "  </thead>\n",
       "  <tbody>\n",
       "    <tr>\n",
       "      <th>0</th>\n",
       "      <td>28</td>\n",
       "      <td>0.642857</td>\n",
       "      <td>170</td>\n",
       "      <td>0.394118</td>\n",
       "      <td>1108</td>\n",
       "      <td>0.753610</td>\n",
       "      <td>30</td>\n",
       "      <td>84</td>\n",
       "    </tr>\n",
       "    <tr>\n",
       "      <th>1</th>\n",
       "      <td>39</td>\n",
       "      <td>0.641026</td>\n",
       "      <td>107</td>\n",
       "      <td>0.532710</td>\n",
       "      <td>1137</td>\n",
       "      <td>0.930519</td>\n",
       "      <td>24</td>\n",
       "      <td>117</td>\n",
       "    </tr>\n",
       "    <tr>\n",
       "      <th>2</th>\n",
       "      <td>32</td>\n",
       "      <td>0.656250</td>\n",
       "      <td>104</td>\n",
       "      <td>0.625000</td>\n",
       "      <td>297</td>\n",
       "      <td>0.713805</td>\n",
       "      <td>23</td>\n",
       "      <td>96</td>\n",
       "    </tr>\n",
       "    <tr>\n",
       "      <th>3</th>\n",
       "      <td>28</td>\n",
       "      <td>0.785714</td>\n",
       "      <td>135</td>\n",
       "      <td>0.577778</td>\n",
       "      <td>424</td>\n",
       "      <td>0.738208</td>\n",
       "      <td>32</td>\n",
       "      <td>84</td>\n",
       "    </tr>\n",
       "    <tr>\n",
       "      <th>4</th>\n",
       "      <td>12</td>\n",
       "      <td>0.916667</td>\n",
       "      <td>58</td>\n",
       "      <td>0.620690</td>\n",
       "      <td>232</td>\n",
       "      <td>0.780172</td>\n",
       "      <td>14</td>\n",
       "      <td>36</td>\n",
       "    </tr>\n",
       "  </tbody>\n",
       "</table>\n",
       "</div>"
      ],
      "text/plain": [
       "   Tackles  wontackles  duels  wonduels  passes  wonpasses  interception  \\\n",
       "0       28    0.642857    170  0.394118    1108   0.753610            30   \n",
       "1       39    0.641026    107  0.532710    1137   0.930519            24   \n",
       "2       32    0.656250    104  0.625000     297   0.713805            23   \n",
       "3       28    0.785714    135  0.577778     424   0.738208            32   \n",
       "4       12    0.916667     58  0.620690     232   0.780172            14   \n",
       "\n",
       "   Tackles3  \n",
       "0        84  \n",
       "1       117  \n",
       "2        96  \n",
       "3        84  \n",
       "4        36  "
      ]
     },
     "execution_count": 19,
     "metadata": {},
     "output_type": "execute_result"
    }
   ],
   "source": [
    "data_num.head()"
   ]
  },
  {
   "cell_type": "code",
   "execution_count": 20,
   "id": "18a5e15a",
   "metadata": {},
   "outputs": [
    {
     "data": {
      "text/plain": [
       "-0.07161472215323064"
      ]
     },
     "execution_count": 20,
     "metadata": {},
     "output_type": "execute_result"
    }
   ],
   "source": [
    "# Normalized value of first record of Tackels column \n",
    "( 28 - np.mean(data_num['Tackles']))/np.std(data_num['Tackles'])"
   ]
  },
  {
   "cell_type": "code",
   "execution_count": 22,
   "id": "e0c89b97",
   "metadata": {},
   "outputs": [
    {
     "data": {
      "text/plain": [
       "-0.0716147221532307"
      ]
     },
     "execution_count": 22,
     "metadata": {},
     "output_type": "execute_result"
    }
   ],
   "source": [
    "# Normalized value of first record of Tackels ( weighted) column \n",
    "( 84 - np.mean(data_num['Tackles3']))/np.std(data_num['Tackles3'])"
   ]
  },
  {
   "cell_type": "code",
   "execution_count": 23,
   "id": "d9c22063",
   "metadata": {},
   "outputs": [
    {
     "data": {
      "text/plain": [
       "array([[-0.07161472, -0.55356335,  0.19231802, ...,  0.72211922,\n",
       "        -0.0331406 ,  0.20763391],\n",
       "       [ 0.36102342, -0.56411628, -0.36985665, ...,  0.7741784 ,\n",
       "         1.87028208, -0.05452552],\n",
       "       [ 0.08570824, -0.47639505, -0.39662688, ..., -0.73374278,\n",
       "        -0.46142054, -0.09821876],\n",
       "       ...,\n",
       "       [-0.81889878,  0.22383583, -1.07480585, ..., -1.09815706,\n",
       "        -3.10520237, -0.88469705],\n",
       "       [-1.01555248, -1.37669189, -1.253274  , ..., -1.21663658,\n",
       "         0.69654158, -1.10316324],\n",
       "       [-1.05488322, -0.41637526, -1.23542719, ..., -1.2417686 ,\n",
       "         1.08080388, -1.05947   ]])"
      ]
     },
     "execution_count": 23,
     "metadata": {},
     "output_type": "execute_result"
    }
   ],
   "source": [
    "# Note:- Weighing before scaling should not be done. It makes no sense\n",
    "# Weights should be applied on the scaled dataframe only \n",
    "data_scaled"
   ]
  },
  {
   "cell_type": "code",
   "execution_count": 24,
   "id": "baf1b936",
   "metadata": {},
   "outputs": [
    {
     "data": {
      "text/plain": [
       "numpy.ndarray"
      ]
     },
     "execution_count": 24,
     "metadata": {},
     "output_type": "execute_result"
    }
   ],
   "source": [
    "type(data_scaled)"
   ]
  },
  {
   "cell_type": "code",
   "execution_count": 25,
   "id": "474ba18c",
   "metadata": {},
   "outputs": [
    {
     "data": {
      "text/html": [
       "<div>\n",
       "<style scoped>\n",
       "    .dataframe tbody tr th:only-of-type {\n",
       "        vertical-align: middle;\n",
       "    }\n",
       "\n",
       "    .dataframe tbody tr th {\n",
       "        vertical-align: top;\n",
       "    }\n",
       "\n",
       "    .dataframe thead th {\n",
       "        text-align: right;\n",
       "    }\n",
       "</style>\n",
       "<table border=\"1\" class=\"dataframe\">\n",
       "  <thead>\n",
       "    <tr style=\"text-align: right;\">\n",
       "      <th></th>\n",
       "      <th>0</th>\n",
       "      <th>1</th>\n",
       "      <th>2</th>\n",
       "      <th>3</th>\n",
       "      <th>4</th>\n",
       "      <th>5</th>\n",
       "      <th>6</th>\n",
       "    </tr>\n",
       "  </thead>\n",
       "  <tbody>\n",
       "    <tr>\n",
       "      <th>0</th>\n",
       "      <td>-0.071615</td>\n",
       "      <td>-0.553563</td>\n",
       "      <td>0.192318</td>\n",
       "      <td>-0.872459</td>\n",
       "      <td>0.722119</td>\n",
       "      <td>-0.033141</td>\n",
       "      <td>0.207634</td>\n",
       "    </tr>\n",
       "    <tr>\n",
       "      <th>1</th>\n",
       "      <td>0.361023</td>\n",
       "      <td>-0.564116</td>\n",
       "      <td>-0.369857</td>\n",
       "      <td>0.195498</td>\n",
       "      <td>0.774178</td>\n",
       "      <td>1.870282</td>\n",
       "      <td>-0.054526</td>\n",
       "    </tr>\n",
       "    <tr>\n",
       "      <th>2</th>\n",
       "      <td>0.085708</td>\n",
       "      <td>-0.476395</td>\n",
       "      <td>-0.396627</td>\n",
       "      <td>0.906657</td>\n",
       "      <td>-0.733743</td>\n",
       "      <td>-0.461421</td>\n",
       "      <td>-0.098219</td>\n",
       "    </tr>\n",
       "    <tr>\n",
       "      <th>3</th>\n",
       "      <td>-0.071615</td>\n",
       "      <td>0.269565</td>\n",
       "      <td>-0.120001</td>\n",
       "      <td>0.542776</td>\n",
       "      <td>-0.505759</td>\n",
       "      <td>-0.198862</td>\n",
       "      <td>0.295020</td>\n",
       "    </tr>\n",
       "    <tr>\n",
       "      <th>4</th>\n",
       "      <td>-0.700907</td>\n",
       "      <td>1.024100</td>\n",
       "      <td>-0.807104</td>\n",
       "      <td>0.873443</td>\n",
       "      <td>-0.850427</td>\n",
       "      <td>0.252652</td>\n",
       "      <td>-0.491458</td>\n",
       "    </tr>\n",
       "  </tbody>\n",
       "</table>\n",
       "</div>"
      ],
      "text/plain": [
       "          0         1         2         3         4         5         6\n",
       "0 -0.071615 -0.553563  0.192318 -0.872459  0.722119 -0.033141  0.207634\n",
       "1  0.361023 -0.564116 -0.369857  0.195498  0.774178  1.870282 -0.054526\n",
       "2  0.085708 -0.476395 -0.396627  0.906657 -0.733743 -0.461421 -0.098219\n",
       "3 -0.071615  0.269565 -0.120001  0.542776 -0.505759 -0.198862  0.295020\n",
       "4 -0.700907  1.024100 -0.807104  0.873443 -0.850427  0.252652 -0.491458"
      ]
     },
     "execution_count": 25,
     "metadata": {},
     "output_type": "execute_result"
    }
   ],
   "source": [
    "dataset = pd.DataFrame(data_scaled)\n",
    "dataset.head()"
   ]
  },
  {
   "cell_type": "code",
   "execution_count": 28,
   "id": "ecb0829a",
   "metadata": {},
   "outputs": [],
   "source": [
    "data_scaled_bkp = data_scaled"
   ]
  },
  {
   "cell_type": "code",
   "execution_count": 29,
   "id": "a846dd62",
   "metadata": {},
   "outputs": [],
   "source": [
    "data_scaled_bkp[:,0]  # First column of nparray \n",
    "data_scaled_bkp[:,0]*3\n",
    "\n",
    "data_scaled_bkp[:,0] = data_scaled_bkp[:,0]*3"
   ]
  },
  {
   "cell_type": "code",
   "execution_count": 30,
   "id": "7b3a3ffc",
   "metadata": {},
   "outputs": [
    {
     "data": {
      "text/plain": [
       "array([[-0.21484417, -0.55356335,  0.19231802, ...,  0.72211922,\n",
       "        -0.0331406 ,  0.20763391],\n",
       "       [ 1.08307025, -0.56411628, -0.36985665, ...,  0.7741784 ,\n",
       "         1.87028208, -0.05452552],\n",
       "       [ 0.25712471, -0.47639505, -0.39662688, ..., -0.73374278,\n",
       "        -0.46142054, -0.09821876],\n",
       "       ...,\n",
       "       [-2.45669634,  0.22383583, -1.07480585, ..., -1.09815706,\n",
       "        -3.10520237, -0.88469705],\n",
       "       [-3.04665744, -1.37669189, -1.253274  , ..., -1.21663658,\n",
       "         0.69654158, -1.10316324],\n",
       "       [-3.16464966, -0.41637526, -1.23542719, ..., -1.2417686 ,\n",
       "         1.08080388, -1.05947   ]])"
      ]
     },
     "execution_count": 30,
     "metadata": {},
     "output_type": "execute_result"
    }
   ],
   "source": [
    "data_scaled_bkp"
   ]
  },
  {
   "cell_type": "code",
   "execution_count": 48,
   "id": "4e5a16be",
   "metadata": {},
   "outputs": [],
   "source": [
    "data_scaled[:,0] = data_scaled[:,0]/3"
   ]
  },
  {
   "cell_type": "code",
   "execution_count": 49,
   "id": "d3c2d976",
   "metadata": {},
   "outputs": [
    {
     "data": {
      "text/plain": [
       "array([[-0.07161472, -0.55356335,  0.19231802, ...,  0.72211922,\n",
       "        -0.0331406 ,  0.20763391],\n",
       "       [ 0.36102342, -0.56411628, -0.36985665, ...,  0.7741784 ,\n",
       "         1.87028208, -0.05452552],\n",
       "       [ 0.08570824, -0.47639505, -0.39662688, ..., -0.73374278,\n",
       "        -0.46142054, -0.09821876],\n",
       "       ...,\n",
       "       [-0.81889878,  0.22383583, -1.07480585, ..., -1.09815706,\n",
       "        -3.10520237, -0.88469705],\n",
       "       [-1.01555248, -1.37669189, -1.253274  , ..., -1.21663658,\n",
       "         0.69654158, -1.10316324],\n",
       "       [-1.05488322, -0.41637526, -1.23542719, ..., -1.2417686 ,\n",
       "         1.08080388, -1.05947   ]])"
      ]
     },
     "execution_count": 49,
     "metadata": {},
     "output_type": "execute_result"
    }
   ],
   "source": [
    "data_scaled"
   ]
  },
  {
   "cell_type": "code",
   "execution_count": 50,
   "id": "24f8491c",
   "metadata": {},
   "outputs": [],
   "source": [
    "import sklearn.cluster as cluster"
   ]
  },
  {
   "cell_type": "code",
   "execution_count": 51,
   "id": "1fe2fffb",
   "metadata": {},
   "outputs": [],
   "source": [
    "kmeans = cluster.KMeans(n_clusters=20, init=\"k-means++\", random_state=20)"
   ]
  },
  {
   "cell_type": "code",
   "execution_count": 52,
   "id": "a5b815ed",
   "metadata": {},
   "outputs": [],
   "source": [
    "kmeans = kmeans.fit(data_scaled)  # fitting data to the K-means algo"
   ]
  },
  {
   "cell_type": "code",
   "execution_count": 53,
   "id": "9f9c0e53",
   "metadata": {},
   "outputs": [
    {
     "data": {
      "text/plain": [
       "20"
      ]
     },
     "execution_count": 53,
     "metadata": {},
     "output_type": "execute_result"
    }
   ],
   "source": [
    "kmeans.n_clusters  # It has created 20 clusters "
   ]
  },
  {
   "cell_type": "code",
   "execution_count": null,
   "id": "1ee8cbbf",
   "metadata": {},
   "outputs": [],
   "source": []
  },
  {
   "cell_type": "code",
   "execution_count": 54,
   "id": "384adbe1",
   "metadata": {},
   "outputs": [
    {
     "data": {
      "text/plain": [
       "array([15,  5, 19, 19, 10,  3, 17, 19,  3, 19, 15, 10, 16,  4,  0, 19, 11,\n",
       "        2,  4, 10, 13,  6, 12,  0, 13, 10, 12,  3, 15, 19,  5,  0,  5,  3,\n",
       "       10,  5, 10, 19,  2,  5, 15, 12, 16, 12,  9, 10, 13, 11, 14,  7, 19,\n",
       "       19, 17, 13, 13,  0,  7, 12,  1, 12,  3, 13,  9,  3,  6, 11, 17, 15,\n",
       "       15,  5, 10,  0, 16, 16, 17, 19,  0, 13,  5, 16,  9, 10,  9,  3, 12,\n",
       "        5, 13,  0,  1, 19, 12,  3,  0, 19, 15,  0, 14,  9,  1, 15, 12,  0,\n",
       "       15, 14,  9,  5, 13, 13,  3,  5,  5, 12, 13,  9,  6,  0, 19, 19,  6,\n",
       "        5, 17,  9, 15, 15, 15, 17, 13,  0, 10,  9, 10, 10,  0,  0,  8,  7,\n",
       "        5, 15, 11, 13,  9,  4, 18,  3,  0,  4,  6, 19, 13,  9, 17,  6, 11,\n",
       "       12,  4, 15,  3, 10,  1, 10,  0,  5,  1, 12, 15,  3, 10,  3,  4, 12,\n",
       "        6,  3,  0,  9, 10, 10, 19, 12, 13,  5, 13, 15,  4,  5,  3, 15,  1,\n",
       "        5,  5, 12,  3,  0, 12,  7, 15, 11,  6, 10,  0,  0, 19, 13, 17,  1,\n",
       "        3,  9, 17, 17, 11, 17,  0,  5, 19, 17,  0, 19,  0,  9, 19, 15, 12,\n",
       "        5, 19, 17, 11,  2,  0, 11,  0,  5,  3, 11,  0,  1,  6,  7, 19, 10,\n",
       "       19, 15,  0, 10, 19,  3, 14,  3,  0,  7,  9, 10, 17, 17, 17,  2,  0,\n",
       "        3,  0,  9,  0, 15, 15,  4,  7,  4,  5, 12, 12, 17,  3,  4, 10, 11,\n",
       "       17, 19, 17, 10,  3,  1, 12,  0, 11, 19,  4,  0,  0,  2,  5, 15,  6,\n",
       "       15,  2, 15, 16, 19,  0,  2,  3,  4,  9,  7,  6,  7,  4, 15, 10, 11,\n",
       "       13,  1, 17, 19, 12, 12,  5, 19, 19,  1,  8, 10,  3,  7, 13, 10, 17,\n",
       "        4,  3,  8,  1, 15,  7, 11, 17, 11,  4, 17,  9, 13,  9, 10, 14,  1,\n",
       "        3,  4,  1, 12, 16,  0, 17,  0,  4,  3, 19,  5,  9, 15,  3, 10,  5,\n",
       "       18,  3, 13,  3,  9, 13,  4,  1,  0,  5,  1, 17, 15,  6,  3, 13, 11,\n",
       "       10, 12, 17,  9,  7, 12,  1, 19,  0, 17,  7,  5, 15, 15,  9, 15, 12,\n",
       "       11,  4, 13, 13,  8, 10,  0, 11, 10,  0, 18,  9,  5, 11,  3,  5,  5,\n",
       "        3,  3,  5,  3, 15, 11,  5, 11,  4,  0,  6, 19,  5,  0,  3, 11,  2,\n",
       "       10, 14,  3,  6, 10, 11,  8,  2, 11, 17,  9, 11,  0,  5,  9, 18, 10,\n",
       "        2,  9,  0, 11,  5,  9, 10,  9, 19,  1,  3, 11,  6,  9, 11,  9, 19,\n",
       "        3, 10, 10, 11,  9,  9,  1,  9,  1,  2,  0, 18, 16, 10,  1, 10,  3,\n",
       "       11, 16,  9,  9])"
      ]
     },
     "execution_count": 54,
     "metadata": {},
     "output_type": "execute_result"
    }
   ],
   "source": [
    "kmeans.labels_  # Cluster number assigned to each record "
   ]
  },
  {
   "cell_type": "code",
   "execution_count": 55,
   "id": "c2bdf993",
   "metadata": {},
   "outputs": [
    {
     "data": {
      "text/plain": [
       "480"
      ]
     },
     "execution_count": 55,
     "metadata": {},
     "output_type": "execute_result"
    }
   ],
   "source": [
    "len(kmeans.labels_ ) # same as number of records provided to "
   ]
  },
  {
   "cell_type": "code",
   "execution_count": 56,
   "id": "7e51d0b0",
   "metadata": {},
   "outputs": [],
   "source": [
    "data.head() # In this data set append a column of cluster number \n",
    "data['cluster_number'] = kmeans.labels_ "
   ]
  },
  {
   "cell_type": "code",
   "execution_count": 57,
   "id": "a1da80ce",
   "metadata": {},
   "outputs": [
    {
     "data": {
      "text/html": [
       "<div>\n",
       "<style scoped>\n",
       "    .dataframe tbody tr th:only-of-type {\n",
       "        vertical-align: middle;\n",
       "    }\n",
       "\n",
       "    .dataframe tbody tr th {\n",
       "        vertical-align: top;\n",
       "    }\n",
       "\n",
       "    .dataframe thead th {\n",
       "        text-align: right;\n",
       "    }\n",
       "</style>\n",
       "<table border=\"1\" class=\"dataframe\">\n",
       "  <thead>\n",
       "    <tr style=\"text-align: right;\">\n",
       "      <th></th>\n",
       "      <th>Player Id</th>\n",
       "      <th>Tackles</th>\n",
       "      <th>wontackles</th>\n",
       "      <th>duels</th>\n",
       "      <th>wonduels</th>\n",
       "      <th>passes</th>\n",
       "      <th>wonpasses</th>\n",
       "      <th>interception</th>\n",
       "      <th>First_Name</th>\n",
       "      <th>Last_Name</th>\n",
       "      <th>cluster_number</th>\n",
       "    </tr>\n",
       "  </thead>\n",
       "  <tbody>\n",
       "    <tr>\n",
       "      <th>0</th>\n",
       "      <td>3</td>\n",
       "      <td>28</td>\n",
       "      <td>0.642857</td>\n",
       "      <td>170</td>\n",
       "      <td>0.394118</td>\n",
       "      <td>1108</td>\n",
       "      <td>0.753610</td>\n",
       "      <td>30</td>\n",
       "      <td>Giggs</td>\n",
       "      <td>Ryan</td>\n",
       "      <td>15</td>\n",
       "    </tr>\n",
       "    <tr>\n",
       "      <th>1</th>\n",
       "      <td>363</td>\n",
       "      <td>39</td>\n",
       "      <td>0.641026</td>\n",
       "      <td>107</td>\n",
       "      <td>0.532710</td>\n",
       "      <td>1137</td>\n",
       "      <td>0.930519</td>\n",
       "      <td>24</td>\n",
       "      <td>Scholes</td>\n",
       "      <td>Paul</td>\n",
       "      <td>5</td>\n",
       "    </tr>\n",
       "    <tr>\n",
       "      <th>2</th>\n",
       "      <td>973</td>\n",
       "      <td>32</td>\n",
       "      <td>0.656250</td>\n",
       "      <td>104</td>\n",
       "      <td>0.625000</td>\n",
       "      <td>297</td>\n",
       "      <td>0.713805</td>\n",
       "      <td>23</td>\n",
       "      <td>Woodgate</td>\n",
       "      <td>Jonathan</td>\n",
       "      <td>19</td>\n",
       "    </tr>\n",
       "    <tr>\n",
       "      <th>3</th>\n",
       "      <td>1059</td>\n",
       "      <td>28</td>\n",
       "      <td>0.785714</td>\n",
       "      <td>135</td>\n",
       "      <td>0.577778</td>\n",
       "      <td>424</td>\n",
       "      <td>0.738208</td>\n",
       "      <td>32</td>\n",
       "      <td>Gabbidon</td>\n",
       "      <td>Daniel</td>\n",
       "      <td>19</td>\n",
       "    </tr>\n",
       "    <tr>\n",
       "      <th>4</th>\n",
       "      <td>1131</td>\n",
       "      <td>12</td>\n",
       "      <td>0.916667</td>\n",
       "      <td>58</td>\n",
       "      <td>0.620690</td>\n",
       "      <td>232</td>\n",
       "      <td>0.780172</td>\n",
       "      <td>14</td>\n",
       "      <td>Bramble</td>\n",
       "      <td>Titus</td>\n",
       "      <td>10</td>\n",
       "    </tr>\n",
       "  </tbody>\n",
       "</table>\n",
       "</div>"
      ],
      "text/plain": [
       "   Player Id  Tackles  wontackles  duels  wonduels  passes  wonpasses  \\\n",
       "0          3       28    0.642857    170  0.394118    1108   0.753610   \n",
       "1        363       39    0.641026    107  0.532710    1137   0.930519   \n",
       "2        973       32    0.656250    104  0.625000     297   0.713805   \n",
       "3       1059       28    0.785714    135  0.577778     424   0.738208   \n",
       "4       1131       12    0.916667     58  0.620690     232   0.780172   \n",
       "\n",
       "   interception First_Name Last_Name  cluster_number  \n",
       "0            30      Giggs      Ryan              15  \n",
       "1            24    Scholes      Paul               5  \n",
       "2            23   Woodgate  Jonathan              19  \n",
       "3            32   Gabbidon    Daniel              19  \n",
       "4            14    Bramble     Titus              10  "
      ]
     },
     "execution_count": 57,
     "metadata": {},
     "output_type": "execute_result"
    }
   ],
   "source": [
    "data.head()"
   ]
  },
  {
   "cell_type": "code",
   "execution_count": 58,
   "id": "602fb8fe",
   "metadata": {},
   "outputs": [
    {
     "data": {
      "text/html": [
       "<div>\n",
       "<style scoped>\n",
       "    .dataframe tbody tr th:only-of-type {\n",
       "        vertical-align: middle;\n",
       "    }\n",
       "\n",
       "    .dataframe tbody tr th {\n",
       "        vertical-align: top;\n",
       "    }\n",
       "\n",
       "    .dataframe thead th {\n",
       "        text-align: right;\n",
       "    }\n",
       "</style>\n",
       "<table border=\"1\" class=\"dataframe\">\n",
       "  <thead>\n",
       "    <tr style=\"text-align: right;\">\n",
       "      <th></th>\n",
       "      <th>Player Id</th>\n",
       "      <th>Tackles</th>\n",
       "      <th>wontackles</th>\n",
       "      <th>duels</th>\n",
       "      <th>wonduels</th>\n",
       "      <th>passes</th>\n",
       "      <th>wonpasses</th>\n",
       "      <th>interception</th>\n",
       "      <th>First_Name</th>\n",
       "      <th>Last_Name</th>\n",
       "      <th>cluster_number</th>\n",
       "    </tr>\n",
       "  </thead>\n",
       "  <tbody>\n",
       "    <tr>\n",
       "      <th>263</th>\n",
       "      <td>21091</td>\n",
       "      <td>100</td>\n",
       "      <td>0.73</td>\n",
       "      <td>396</td>\n",
       "      <td>0.474747</td>\n",
       "      <td>2261</td>\n",
       "      <td>0.839894</td>\n",
       "      <td>66</td>\n",
       "      <td>Song</td>\n",
       "      <td>Alexandre</td>\n",
       "      <td>4</td>\n",
       "    </tr>\n",
       "  </tbody>\n",
       "</table>\n",
       "</div>"
      ],
      "text/plain": [
       "     Player Id  Tackles  wontackles  duels  wonduels  passes  wonpasses  \\\n",
       "263      21091      100        0.73    396  0.474747    2261   0.839894   \n",
       "\n",
       "     interception First_Name  Last_Name  cluster_number  \n",
       "263            66       Song  Alexandre               4  "
      ]
     },
     "execution_count": 58,
     "metadata": {},
     "output_type": "execute_result"
    }
   ],
   "source": [
    "# Find out in which cluster player song is present ?\n",
    "data.loc[data['First_Name'] == \"Song\"]"
   ]
  },
  {
   "cell_type": "code",
   "execution_count": 60,
   "id": "7a0de9e9",
   "metadata": {},
   "outputs": [
    {
     "data": {
      "text/html": [
       "<div>\n",
       "<style scoped>\n",
       "    .dataframe tbody tr th:only-of-type {\n",
       "        vertical-align: middle;\n",
       "    }\n",
       "\n",
       "    .dataframe tbody tr th {\n",
       "        vertical-align: top;\n",
       "    }\n",
       "\n",
       "    .dataframe thead th {\n",
       "        text-align: right;\n",
       "    }\n",
       "</style>\n",
       "<table border=\"1\" class=\"dataframe\">\n",
       "  <thead>\n",
       "    <tr style=\"text-align: right;\">\n",
       "      <th></th>\n",
       "      <th>Player Id</th>\n",
       "      <th>Tackles</th>\n",
       "      <th>wontackles</th>\n",
       "      <th>duels</th>\n",
       "      <th>wonduels</th>\n",
       "      <th>passes</th>\n",
       "      <th>wonpasses</th>\n",
       "      <th>interception</th>\n",
       "      <th>First_Name</th>\n",
       "      <th>Last_Name</th>\n",
       "      <th>cluster_number</th>\n",
       "    </tr>\n",
       "  </thead>\n",
       "  <tbody>\n",
       "    <tr>\n",
       "      <th>13</th>\n",
       "      <td>1411</td>\n",
       "      <td>107</td>\n",
       "      <td>0.710280</td>\n",
       "      <td>319</td>\n",
       "      <td>0.529781</td>\n",
       "      <td>1736</td>\n",
       "      <td>0.891129</td>\n",
       "      <td>89</td>\n",
       "      <td>Parker</td>\n",
       "      <td>Scott</td>\n",
       "      <td>4</td>\n",
       "    </tr>\n",
       "    <tr>\n",
       "      <th>18</th>\n",
       "      <td>1632</td>\n",
       "      <td>85</td>\n",
       "      <td>0.705882</td>\n",
       "      <td>301</td>\n",
       "      <td>0.561462</td>\n",
       "      <td>2211</td>\n",
       "      <td>0.858435</td>\n",
       "      <td>72</td>\n",
       "      <td>Barry</td>\n",
       "      <td>Gareth</td>\n",
       "      <td>4</td>\n",
       "    </tr>\n",
       "    <tr>\n",
       "      <th>141</th>\n",
       "      <td>13310</td>\n",
       "      <td>81</td>\n",
       "      <td>0.679012</td>\n",
       "      <td>287</td>\n",
       "      <td>0.592334</td>\n",
       "      <td>1321</td>\n",
       "      <td>0.706283</td>\n",
       "      <td>103</td>\n",
       "      <td>Warnock</td>\n",
       "      <td>Stephen</td>\n",
       "      <td>4</td>\n",
       "    </tr>\n",
       "    <tr>\n",
       "      <th>145</th>\n",
       "      <td>14075</td>\n",
       "      <td>104</td>\n",
       "      <td>0.769231</td>\n",
       "      <td>411</td>\n",
       "      <td>0.591241</td>\n",
       "      <td>1696</td>\n",
       "      <td>0.829009</td>\n",
       "      <td>51</td>\n",
       "      <td>Evra</td>\n",
       "      <td>Patrice</td>\n",
       "      <td>4</td>\n",
       "    </tr>\n",
       "    <tr>\n",
       "      <th>154</th>\n",
       "      <td>14668</td>\n",
       "      <td>86</td>\n",
       "      <td>0.732558</td>\n",
       "      <td>324</td>\n",
       "      <td>0.490741</td>\n",
       "      <td>1684</td>\n",
       "      <td>0.833729</td>\n",
       "      <td>81</td>\n",
       "      <td>Reo-Coker</td>\n",
       "      <td>Nigel</td>\n",
       "      <td>4</td>\n",
       "    </tr>\n",
       "    <tr>\n",
       "      <th>168</th>\n",
       "      <td>15276</td>\n",
       "      <td>94</td>\n",
       "      <td>0.702128</td>\n",
       "      <td>370</td>\n",
       "      <td>0.510811</td>\n",
       "      <td>1838</td>\n",
       "      <td>0.695321</td>\n",
       "      <td>59</td>\n",
       "      <td>Barton</td>\n",
       "      <td>Joey</td>\n",
       "      <td>4</td>\n",
       "    </tr>\n",
       "    <tr>\n",
       "      <th>182</th>\n",
       "      <td>16058</td>\n",
       "      <td>66</td>\n",
       "      <td>0.772727</td>\n",
       "      <td>327</td>\n",
       "      <td>0.446483</td>\n",
       "      <td>1521</td>\n",
       "      <td>0.650888</td>\n",
       "      <td>94</td>\n",
       "      <td>Pedersen</td>\n",
       "      <td>Morten Gamst</td>\n",
       "      <td>4</td>\n",
       "    </tr>\n",
       "    <tr>\n",
       "      <th>261</th>\n",
       "      <td>21060</td>\n",
       "      <td>85</td>\n",
       "      <td>0.811765</td>\n",
       "      <td>465</td>\n",
       "      <td>0.475269</td>\n",
       "      <td>1318</td>\n",
       "      <td>0.751138</td>\n",
       "      <td>74</td>\n",
       "      <td>Gutiérrez</td>\n",
       "      <td>Jonás</td>\n",
       "      <td>4</td>\n",
       "    </tr>\n",
       "    <tr>\n",
       "      <th>263</th>\n",
       "      <td>21091</td>\n",
       "      <td>100</td>\n",
       "      <td>0.730000</td>\n",
       "      <td>396</td>\n",
       "      <td>0.474747</td>\n",
       "      <td>2261</td>\n",
       "      <td>0.839894</td>\n",
       "      <td>66</td>\n",
       "      <td>Song</td>\n",
       "      <td>Alexandre</td>\n",
       "      <td>4</td>\n",
       "    </tr>\n",
       "    <tr>\n",
       "      <th>269</th>\n",
       "      <td>27341</td>\n",
       "      <td>117</td>\n",
       "      <td>0.709402</td>\n",
       "      <td>272</td>\n",
       "      <td>0.555147</td>\n",
       "      <td>1584</td>\n",
       "      <td>0.760732</td>\n",
       "      <td>89</td>\n",
       "      <td>Cabaye</td>\n",
       "      <td>Yohan</td>\n",
       "      <td>4</td>\n",
       "    </tr>\n",
       "    <tr>\n",
       "      <th>282</th>\n",
       "      <td>28301</td>\n",
       "      <td>67</td>\n",
       "      <td>0.671642</td>\n",
       "      <td>348</td>\n",
       "      <td>0.419540</td>\n",
       "      <td>1424</td>\n",
       "      <td>0.821629</td>\n",
       "      <td>60</td>\n",
       "      <td>Cheik Tioté</td>\n",
       "      <td>0</td>\n",
       "      <td>4</td>\n",
       "    </tr>\n",
       "    <tr>\n",
       "      <th>297</th>\n",
       "      <td>34285</td>\n",
       "      <td>107</td>\n",
       "      <td>0.682243</td>\n",
       "      <td>321</td>\n",
       "      <td>0.651090</td>\n",
       "      <td>1890</td>\n",
       "      <td>0.748677</td>\n",
       "      <td>93</td>\n",
       "      <td>Figueroa</td>\n",
       "      <td>Maynor</td>\n",
       "      <td>4</td>\n",
       "    </tr>\n",
       "    <tr>\n",
       "      <th>302</th>\n",
       "      <td>37055</td>\n",
       "      <td>56</td>\n",
       "      <td>0.714286</td>\n",
       "      <td>369</td>\n",
       "      <td>0.474255</td>\n",
       "      <td>2656</td>\n",
       "      <td>0.851280</td>\n",
       "      <td>81</td>\n",
       "      <td>Modric</td>\n",
       "      <td>Luka</td>\n",
       "      <td>4</td>\n",
       "    </tr>\n",
       "    <tr>\n",
       "      <th>323</th>\n",
       "      <td>39104</td>\n",
       "      <td>112</td>\n",
       "      <td>0.758929</td>\n",
       "      <td>478</td>\n",
       "      <td>0.577406</td>\n",
       "      <td>1702</td>\n",
       "      <td>0.877203</td>\n",
       "      <td>33</td>\n",
       "      <td>Dembélé</td>\n",
       "      <td>Moussa</td>\n",
       "      <td>4</td>\n",
       "    </tr>\n",
       "    <tr>\n",
       "      <th>332</th>\n",
       "      <td>39895</td>\n",
       "      <td>101</td>\n",
       "      <td>0.782178</td>\n",
       "      <td>376</td>\n",
       "      <td>0.505319</td>\n",
       "      <td>1667</td>\n",
       "      <td>0.838032</td>\n",
       "      <td>101</td>\n",
       "      <td>Mulumbu</td>\n",
       "      <td>Youssuf</td>\n",
       "      <td>4</td>\n",
       "    </tr>\n",
       "    <tr>\n",
       "      <th>341</th>\n",
       "      <td>40555</td>\n",
       "      <td>110</td>\n",
       "      <td>0.745455</td>\n",
       "      <td>367</td>\n",
       "      <td>0.539510</td>\n",
       "      <td>2219</td>\n",
       "      <td>0.900406</td>\n",
       "      <td>74</td>\n",
       "      <td>Allen</td>\n",
       "      <td>Joe</td>\n",
       "      <td>4</td>\n",
       "    </tr>\n",
       "    <tr>\n",
       "      <th>348</th>\n",
       "      <td>41184</td>\n",
       "      <td>99</td>\n",
       "      <td>0.848485</td>\n",
       "      <td>444</td>\n",
       "      <td>0.497748</td>\n",
       "      <td>1806</td>\n",
       "      <td>0.790144</td>\n",
       "      <td>55</td>\n",
       "      <td>Fellaini</td>\n",
       "      <td>Marouane</td>\n",
       "      <td>4</td>\n",
       "    </tr>\n",
       "    <tr>\n",
       "      <th>363</th>\n",
       "      <td>42996</td>\n",
       "      <td>85</td>\n",
       "      <td>0.741176</td>\n",
       "      <td>237</td>\n",
       "      <td>0.548523</td>\n",
       "      <td>2352</td>\n",
       "      <td>0.819728</td>\n",
       "      <td>95</td>\n",
       "      <td>Rangel</td>\n",
       "      <td>Angel</td>\n",
       "      <td>4</td>\n",
       "    </tr>\n",
       "    <tr>\n",
       "      <th>392</th>\n",
       "      <td>51507</td>\n",
       "      <td>85</td>\n",
       "      <td>0.694118</td>\n",
       "      <td>291</td>\n",
       "      <td>0.646048</td>\n",
       "      <td>1711</td>\n",
       "      <td>0.845120</td>\n",
       "      <td>91</td>\n",
       "      <td>Koscielny</td>\n",
       "      <td>Laurent</td>\n",
       "      <td>4</td>\n",
       "    </tr>\n",
       "    <tr>\n",
       "      <th>416</th>\n",
       "      <td>58621</td>\n",
       "      <td>97</td>\n",
       "      <td>0.835052</td>\n",
       "      <td>345</td>\n",
       "      <td>0.556522</td>\n",
       "      <td>1881</td>\n",
       "      <td>0.792663</td>\n",
       "      <td>67</td>\n",
       "      <td>Walker</td>\n",
       "      <td>Kyle</td>\n",
       "      <td>4</td>\n",
       "    </tr>\n",
       "  </tbody>\n",
       "</table>\n",
       "</div>"
      ],
      "text/plain": [
       "     Player Id  Tackles  wontackles  duels  wonduels  passes  wonpasses  \\\n",
       "13        1411      107    0.710280    319  0.529781    1736   0.891129   \n",
       "18        1632       85    0.705882    301  0.561462    2211   0.858435   \n",
       "141      13310       81    0.679012    287  0.592334    1321   0.706283   \n",
       "145      14075      104    0.769231    411  0.591241    1696   0.829009   \n",
       "154      14668       86    0.732558    324  0.490741    1684   0.833729   \n",
       "168      15276       94    0.702128    370  0.510811    1838   0.695321   \n",
       "182      16058       66    0.772727    327  0.446483    1521   0.650888   \n",
       "261      21060       85    0.811765    465  0.475269    1318   0.751138   \n",
       "263      21091      100    0.730000    396  0.474747    2261   0.839894   \n",
       "269      27341      117    0.709402    272  0.555147    1584   0.760732   \n",
       "282      28301       67    0.671642    348  0.419540    1424   0.821629   \n",
       "297      34285      107    0.682243    321  0.651090    1890   0.748677   \n",
       "302      37055       56    0.714286    369  0.474255    2656   0.851280   \n",
       "323      39104      112    0.758929    478  0.577406    1702   0.877203   \n",
       "332      39895      101    0.782178    376  0.505319    1667   0.838032   \n",
       "341      40555      110    0.745455    367  0.539510    2219   0.900406   \n",
       "348      41184       99    0.848485    444  0.497748    1806   0.790144   \n",
       "363      42996       85    0.741176    237  0.548523    2352   0.819728   \n",
       "392      51507       85    0.694118    291  0.646048    1711   0.845120   \n",
       "416      58621       97    0.835052    345  0.556522    1881   0.792663   \n",
       "\n",
       "     interception   First_Name     Last_Name  cluster_number  \n",
       "13             89       Parker         Scott               4  \n",
       "18             72        Barry        Gareth               4  \n",
       "141           103      Warnock       Stephen               4  \n",
       "145            51         Evra       Patrice               4  \n",
       "154            81    Reo-Coker         Nigel               4  \n",
       "168            59       Barton          Joey               4  \n",
       "182            94     Pedersen  Morten Gamst               4  \n",
       "261            74    Gutiérrez         Jonás               4  \n",
       "263            66         Song     Alexandre               4  \n",
       "269            89       Cabaye         Yohan               4  \n",
       "282            60  Cheik Tioté             0               4  \n",
       "297            93     Figueroa        Maynor               4  \n",
       "302            81       Modric          Luka               4  \n",
       "323            33      Dembélé        Moussa               4  \n",
       "332           101      Mulumbu       Youssuf               4  \n",
       "341            74        Allen           Joe               4  \n",
       "348            55     Fellaini      Marouane               4  \n",
       "363            95       Rangel         Angel               4  \n",
       "392            91    Koscielny       Laurent               4  \n",
       "416            67       Walker          Kyle               4  "
      ]
     },
     "execution_count": 60,
     "metadata": {},
     "output_type": "execute_result"
    }
   ],
   "source": [
    "# Pull all the records of cluster_number 6 \n",
    "data.loc[data['cluster_number'] == 4]"
   ]
  },
  {
   "cell_type": "markdown",
   "id": "b3143cb5",
   "metadata": {},
   "source": [
    "## Profiling of clusters"
   ]
  },
  {
   "cell_type": "code",
   "execution_count": 61,
   "id": "79b47e90",
   "metadata": {},
   "outputs": [
    {
     "data": {
      "text/plain": [
       "29.820833333333333"
      ]
     },
     "execution_count": 61,
     "metadata": {},
     "output_type": "execute_result"
    }
   ],
   "source": [
    "# Gloabl mean of Tackels column \n",
    "data.Tackles.mean()\n",
    "\n",
    "# On an avg a player is doing 30 tackels in his life time"
   ]
  },
  {
   "cell_type": "code",
   "execution_count": 62,
   "id": "f79f860f",
   "metadata": {},
   "outputs": [
    {
     "data": {
      "text/plain": [
       "cluster_number\n",
       "0     64.717391\n",
       "1      9.095238\n",
       "2      2.363636\n",
       "3     22.585366\n",
       "4     92.200000\n",
       "5     34.416667\n",
       "6      6.533333\n",
       "7     39.538462\n",
       "8      1.400000\n",
       "9     11.000000\n",
       "10    10.743590\n",
       "11     4.933333\n",
       "12    62.615385\n",
       "13    17.840000\n",
       "14     1.166667\n",
       "15    39.000000\n",
       "16     4.111111\n",
       "17    27.392857\n",
       "18     2.000000\n",
       "19    38.485714\n",
       "Name: Tackles, dtype: float64"
      ]
     },
     "execution_count": 62,
     "metadata": {},
     "output_type": "execute_result"
    }
   ],
   "source": [
    "# Average tackle value for each cluster \n",
    "data.groupby('cluster_number').aggregate('mean')['Tackles']"
   ]
  },
  {
   "cell_type": "code",
   "execution_count": 63,
   "id": "0ca11176",
   "metadata": {},
   "outputs": [
    {
     "data": {
      "text/plain": [
       "705.7375"
      ]
     },
     "execution_count": 63,
     "metadata": {},
     "output_type": "execute_result"
    }
   ],
   "source": [
    "# Gloabl mean of Tackels column \n",
    "data.passes.mean()\n",
    "\n",
    "# On an avg a player is doing 30 tackels in his life time"
   ]
  },
  {
   "cell_type": "code",
   "execution_count": 64,
   "id": "aa02cda1",
   "metadata": {},
   "outputs": [
    {
     "data": {
      "text/plain": [
       "array([[-0.07161472, -0.55356335,  0.19231802, ...,  0.72211922,\n",
       "        -0.0331406 ,  0.20763391],\n",
       "       [ 0.36102342, -0.56411628, -0.36985665, ...,  0.7741784 ,\n",
       "         1.87028208, -0.05452552],\n",
       "       [ 0.08570824, -0.47639505, -0.39662688, ..., -0.73374278,\n",
       "        -0.46142054, -0.09821876],\n",
       "       ...,\n",
       "       [-0.81889878,  0.22383583, -1.07480585, ..., -1.09815706,\n",
       "        -3.10520237, -0.88469705],\n",
       "       [-1.01555248, -1.37669189, -1.253274  , ..., -1.21663658,\n",
       "         0.69654158, -1.10316324],\n",
       "       [-1.05488322, -0.41637526, -1.23542719, ..., -1.2417686 ,\n",
       "         1.08080388, -1.05947   ]])"
      ]
     },
     "execution_count": 64,
     "metadata": {},
     "output_type": "execute_result"
    }
   ],
   "source": [
    "data_scaled"
   ]
  },
  {
   "cell_type": "code",
   "execution_count": 65,
   "id": "0bb02b78",
   "metadata": {},
   "outputs": [
    {
     "data": {
      "text/plain": [
       "cluster_number\n",
       "0     1005.934783\n",
       "1      241.904762\n",
       "2      396.272727\n",
       "3      560.634146\n",
       "4     1823.900000\n",
       "5      819.416667\n",
       "6      120.600000\n",
       "7     1093.230769\n",
       "8      549.600000\n",
       "9      248.805556\n",
       "10     180.589744\n",
       "11     157.433333\n",
       "12    1776.000000\n",
       "13     501.720000\n",
       "14    1160.500000\n",
       "15    1316.393939\n",
       "16      82.555556\n",
       "17     830.821429\n",
       "18      34.200000\n",
       "19     608.200000\n",
       "Name: passes, dtype: float64"
      ]
     },
     "execution_count": 65,
     "metadata": {},
     "output_type": "execute_result"
    }
   ],
   "source": [
    "data.groupby('cluster_number').aggregate('mean')['passes']"
   ]
  },
  {
   "cell_type": "code",
   "execution_count": 70,
   "id": "18e8426a",
   "metadata": {},
   "outputs": [
    {
     "data": {
      "text/html": [
       "<div>\n",
       "<style scoped>\n",
       "    .dataframe tbody tr th:only-of-type {\n",
       "        vertical-align: middle;\n",
       "    }\n",
       "\n",
       "    .dataframe tbody tr th {\n",
       "        vertical-align: top;\n",
       "    }\n",
       "\n",
       "    .dataframe thead th {\n",
       "        text-align: right;\n",
       "    }\n",
       "</style>\n",
       "<table border=\"1\" class=\"dataframe\">\n",
       "  <thead>\n",
       "    <tr style=\"text-align: right;\">\n",
       "      <th></th>\n",
       "      <th>cluster_number</th>\n",
       "      <th># of Players</th>\n",
       "      <th>Tackles</th>\n",
       "      <th>wontackles</th>\n",
       "      <th>duels</th>\n",
       "      <th>wonduels</th>\n",
       "      <th>passes</th>\n",
       "      <th>wonpasses</th>\n",
       "      <th>interception</th>\n",
       "    </tr>\n",
       "  </thead>\n",
       "  <tbody>\n",
       "    <tr>\n",
       "      <th>0</th>\n",
       "      <td>0</td>\n",
       "      <td>46</td>\n",
       "      <td>64.717391</td>\n",
       "      <td>0.755743</td>\n",
       "      <td>226.304348</td>\n",
       "      <td>0.568114</td>\n",
       "      <td>1005.934783</td>\n",
       "      <td>0.754034</td>\n",
       "      <td>52.652174</td>\n",
       "    </tr>\n",
       "    <tr>\n",
       "      <th>1</th>\n",
       "      <td>1</td>\n",
       "      <td>21</td>\n",
       "      <td>9.095238</td>\n",
       "      <td>0.881544</td>\n",
       "      <td>44.190476</td>\n",
       "      <td>0.448685</td>\n",
       "      <td>241.904762</td>\n",
       "      <td>0.819610</td>\n",
       "      <td>5.809524</td>\n",
       "    </tr>\n",
       "    <tr>\n",
       "      <th>2</th>\n",
       "      <td>2</td>\n",
       "      <td>11</td>\n",
       "      <td>2.363636</td>\n",
       "      <td>0.068182</td>\n",
       "      <td>22.000000</td>\n",
       "      <td>0.474016</td>\n",
       "      <td>396.272727</td>\n",
       "      <td>0.638921</td>\n",
       "      <td>2.818182</td>\n",
       "    </tr>\n",
       "    <tr>\n",
       "      <th>3</th>\n",
       "      <td>3</td>\n",
       "      <td>41</td>\n",
       "      <td>22.585366</td>\n",
       "      <td>0.737429</td>\n",
       "      <td>122.756098</td>\n",
       "      <td>0.443611</td>\n",
       "      <td>560.634146</td>\n",
       "      <td>0.778457</td>\n",
       "      <td>17.853659</td>\n",
       "    </tr>\n",
       "    <tr>\n",
       "      <th>4</th>\n",
       "      <td>4</td>\n",
       "      <td>20</td>\n",
       "      <td>92.200000</td>\n",
       "      <td>0.739827</td>\n",
       "      <td>352.400000</td>\n",
       "      <td>0.532199</td>\n",
       "      <td>1823.900000</td>\n",
       "      <td>0.805072</td>\n",
       "      <td>76.400000</td>\n",
       "    </tr>\n",
       "    <tr>\n",
       "      <th>5</th>\n",
       "      <td>5</td>\n",
       "      <td>36</td>\n",
       "      <td>34.416667</td>\n",
       "      <td>0.769723</td>\n",
       "      <td>125.500000</td>\n",
       "      <td>0.589211</td>\n",
       "      <td>819.416667</td>\n",
       "      <td>0.851605</td>\n",
       "      <td>33.805556</td>\n",
       "    </tr>\n",
       "    <tr>\n",
       "      <th>6</th>\n",
       "      <td>6</td>\n",
       "      <td>15</td>\n",
       "      <td>6.533333</td>\n",
       "      <td>0.629091</td>\n",
       "      <td>52.933333</td>\n",
       "      <td>0.384111</td>\n",
       "      <td>120.600000</td>\n",
       "      <td>0.707216</td>\n",
       "      <td>4.133333</td>\n",
       "    </tr>\n",
       "    <tr>\n",
       "      <th>7</th>\n",
       "      <td>7</td>\n",
       "      <td>13</td>\n",
       "      <td>39.538462</td>\n",
       "      <td>0.739388</td>\n",
       "      <td>434.769231</td>\n",
       "      <td>0.424784</td>\n",
       "      <td>1093.230769</td>\n",
       "      <td>0.744307</td>\n",
       "      <td>28.692308</td>\n",
       "    </tr>\n",
       "    <tr>\n",
       "      <th>8</th>\n",
       "      <td>8</td>\n",
       "      <td>5</td>\n",
       "      <td>1.400000</td>\n",
       "      <td>0.066667</td>\n",
       "      <td>7.800000</td>\n",
       "      <td>0.936720</td>\n",
       "      <td>549.600000</td>\n",
       "      <td>0.649913</td>\n",
       "      <td>2.400000</td>\n",
       "    </tr>\n",
       "    <tr>\n",
       "      <th>9</th>\n",
       "      <td>9</td>\n",
       "      <td>36</td>\n",
       "      <td>11.000000</td>\n",
       "      <td>0.588705</td>\n",
       "      <td>46.833333</td>\n",
       "      <td>0.518667</td>\n",
       "      <td>248.805556</td>\n",
       "      <td>0.840198</td>\n",
       "      <td>8.694444</td>\n",
       "    </tr>\n",
       "    <tr>\n",
       "      <th>10</th>\n",
       "      <td>10</td>\n",
       "      <td>39</td>\n",
       "      <td>10.743590</td>\n",
       "      <td>0.783945</td>\n",
       "      <td>39.282051</td>\n",
       "      <td>0.646042</td>\n",
       "      <td>180.589744</td>\n",
       "      <td>0.760283</td>\n",
       "      <td>8.794872</td>\n",
       "    </tr>\n",
       "    <tr>\n",
       "      <th>11</th>\n",
       "      <td>11</td>\n",
       "      <td>30</td>\n",
       "      <td>4.933333</td>\n",
       "      <td>0.954953</td>\n",
       "      <td>61.666667</td>\n",
       "      <td>0.314169</td>\n",
       "      <td>157.433333</td>\n",
       "      <td>0.708164</td>\n",
       "      <td>3.966667</td>\n",
       "    </tr>\n",
       "    <tr>\n",
       "      <th>12</th>\n",
       "      <td>12</td>\n",
       "      <td>26</td>\n",
       "      <td>62.615385</td>\n",
       "      <td>0.746423</td>\n",
       "      <td>240.115385</td>\n",
       "      <td>0.580154</td>\n",
       "      <td>1776.000000</td>\n",
       "      <td>0.842768</td>\n",
       "      <td>62.692308</td>\n",
       "    </tr>\n",
       "    <tr>\n",
       "      <th>13</th>\n",
       "      <td>13</td>\n",
       "      <td>25</td>\n",
       "      <td>17.840000</td>\n",
       "      <td>0.705833</td>\n",
       "      <td>186.880000</td>\n",
       "      <td>0.402426</td>\n",
       "      <td>501.720000</td>\n",
       "      <td>0.638219</td>\n",
       "      <td>14.600000</td>\n",
       "    </tr>\n",
       "    <tr>\n",
       "      <th>14</th>\n",
       "      <td>14</td>\n",
       "      <td>6</td>\n",
       "      <td>1.166667</td>\n",
       "      <td>1.000000</td>\n",
       "      <td>11.500000</td>\n",
       "      <td>0.668164</td>\n",
       "      <td>1160.500000</td>\n",
       "      <td>0.590553</td>\n",
       "      <td>1.166667</td>\n",
       "    </tr>\n",
       "    <tr>\n",
       "      <th>15</th>\n",
       "      <td>15</td>\n",
       "      <td>33</td>\n",
       "      <td>39.000000</td>\n",
       "      <td>0.737869</td>\n",
       "      <td>206.212121</td>\n",
       "      <td>0.449586</td>\n",
       "      <td>1316.393939</td>\n",
       "      <td>0.795387</td>\n",
       "      <td>34.757576</td>\n",
       "    </tr>\n",
       "    <tr>\n",
       "      <th>16</th>\n",
       "      <td>16</td>\n",
       "      <td>9</td>\n",
       "      <td>4.111111</td>\n",
       "      <td>0.914198</td>\n",
       "      <td>36.000000</td>\n",
       "      <td>0.379628</td>\n",
       "      <td>82.555556</td>\n",
       "      <td>0.477865</td>\n",
       "      <td>1.222222</td>\n",
       "    </tr>\n",
       "    <tr>\n",
       "      <th>17</th>\n",
       "      <td>17</td>\n",
       "      <td>28</td>\n",
       "      <td>27.392857</td>\n",
       "      <td>0.785358</td>\n",
       "      <td>301.607143</td>\n",
       "      <td>0.393661</td>\n",
       "      <td>830.821429</td>\n",
       "      <td>0.708209</td>\n",
       "      <td>20.035714</td>\n",
       "    </tr>\n",
       "    <tr>\n",
       "      <th>18</th>\n",
       "      <td>18</td>\n",
       "      <td>5</td>\n",
       "      <td>2.000000</td>\n",
       "      <td>0.933333</td>\n",
       "      <td>3.200000</td>\n",
       "      <td>0.975000</td>\n",
       "      <td>34.200000</td>\n",
       "      <td>0.857895</td>\n",
       "      <td>1.600000</td>\n",
       "    </tr>\n",
       "    <tr>\n",
       "      <th>19</th>\n",
       "      <td>19</td>\n",
       "      <td>35</td>\n",
       "      <td>38.485714</td>\n",
       "      <td>0.738121</td>\n",
       "      <td>141.400000</td>\n",
       "      <td>0.575582</td>\n",
       "      <td>608.200000</td>\n",
       "      <td>0.710122</td>\n",
       "      <td>31.885714</td>\n",
       "    </tr>\n",
       "  </tbody>\n",
       "</table>\n",
       "</div>"
      ],
      "text/plain": [
       "    cluster_number  # of Players    Tackles  wontackles       duels  wonduels  \\\n",
       "0                0            46  64.717391    0.755743  226.304348  0.568114   \n",
       "1                1            21   9.095238    0.881544   44.190476  0.448685   \n",
       "2                2            11   2.363636    0.068182   22.000000  0.474016   \n",
       "3                3            41  22.585366    0.737429  122.756098  0.443611   \n",
       "4                4            20  92.200000    0.739827  352.400000  0.532199   \n",
       "5                5            36  34.416667    0.769723  125.500000  0.589211   \n",
       "6                6            15   6.533333    0.629091   52.933333  0.384111   \n",
       "7                7            13  39.538462    0.739388  434.769231  0.424784   \n",
       "8                8             5   1.400000    0.066667    7.800000  0.936720   \n",
       "9                9            36  11.000000    0.588705   46.833333  0.518667   \n",
       "10              10            39  10.743590    0.783945   39.282051  0.646042   \n",
       "11              11            30   4.933333    0.954953   61.666667  0.314169   \n",
       "12              12            26  62.615385    0.746423  240.115385  0.580154   \n",
       "13              13            25  17.840000    0.705833  186.880000  0.402426   \n",
       "14              14             6   1.166667    1.000000   11.500000  0.668164   \n",
       "15              15            33  39.000000    0.737869  206.212121  0.449586   \n",
       "16              16             9   4.111111    0.914198   36.000000  0.379628   \n",
       "17              17            28  27.392857    0.785358  301.607143  0.393661   \n",
       "18              18             5   2.000000    0.933333    3.200000  0.975000   \n",
       "19              19            35  38.485714    0.738121  141.400000  0.575582   \n",
       "\n",
       "         passes  wonpasses  interception  \n",
       "0   1005.934783   0.754034     52.652174  \n",
       "1    241.904762   0.819610      5.809524  \n",
       "2    396.272727   0.638921      2.818182  \n",
       "3    560.634146   0.778457     17.853659  \n",
       "4   1823.900000   0.805072     76.400000  \n",
       "5    819.416667   0.851605     33.805556  \n",
       "6    120.600000   0.707216      4.133333  \n",
       "7   1093.230769   0.744307     28.692308  \n",
       "8    549.600000   0.649913      2.400000  \n",
       "9    248.805556   0.840198      8.694444  \n",
       "10   180.589744   0.760283      8.794872  \n",
       "11   157.433333   0.708164      3.966667  \n",
       "12  1776.000000   0.842768     62.692308  \n",
       "13   501.720000   0.638219     14.600000  \n",
       "14  1160.500000   0.590553      1.166667  \n",
       "15  1316.393939   0.795387     34.757576  \n",
       "16    82.555556   0.477865      1.222222  \n",
       "17   830.821429   0.708209     20.035714  \n",
       "18    34.200000   0.857895      1.600000  \n",
       "19   608.200000   0.710122     31.885714  "
      ]
     },
     "execution_count": 70,
     "metadata": {},
     "output_type": "execute_result"
    }
   ],
   "source": [
    "data.groupby('cluster_number', as_index=False).aggregate(\n",
    "    {'Player Id': 'count',\n",
    "     'Tackles': 'mean', \n",
    "     'wontackles': 'mean',\n",
    "     'duels': 'mean',\n",
    "     'wonduels': 'mean',\n",
    "     'passes': 'mean',\n",
    "     'wonpasses': 'mean',\n",
    "     'interception': 'mean'\n",
    "     }).rename(columns={'Player Id': '# of Players'})"
   ]
  },
  {
   "cell_type": "code",
   "execution_count": 73,
   "id": "a3504637",
   "metadata": {},
   "outputs": [
    {
     "data": {
      "text/html": [
       "<div>\n",
       "<style scoped>\n",
       "    .dataframe tbody tr th:only-of-type {\n",
       "        vertical-align: middle;\n",
       "    }\n",
       "\n",
       "    .dataframe tbody tr th {\n",
       "        vertical-align: top;\n",
       "    }\n",
       "\n",
       "    .dataframe thead th {\n",
       "        text-align: right;\n",
       "    }\n",
       "</style>\n",
       "<table border=\"1\" class=\"dataframe\">\n",
       "  <thead>\n",
       "    <tr style=\"text-align: right;\">\n",
       "      <th></th>\n",
       "      <th>min</th>\n",
       "      <th>max</th>\n",
       "    </tr>\n",
       "    <tr>\n",
       "      <th>cluster_number</th>\n",
       "      <th></th>\n",
       "      <th></th>\n",
       "    </tr>\n",
       "  </thead>\n",
       "  <tbody>\n",
       "    <tr>\n",
       "      <th>0</th>\n",
       "      <td>41</td>\n",
       "      <td>95</td>\n",
       "    </tr>\n",
       "    <tr>\n",
       "      <th>1</th>\n",
       "      <td>1</td>\n",
       "      <td>19</td>\n",
       "    </tr>\n",
       "    <tr>\n",
       "      <th>2</th>\n",
       "      <td>1</td>\n",
       "      <td>8</td>\n",
       "    </tr>\n",
       "    <tr>\n",
       "      <th>3</th>\n",
       "      <td>8</td>\n",
       "      <td>44</td>\n",
       "    </tr>\n",
       "    <tr>\n",
       "      <th>4</th>\n",
       "      <td>56</td>\n",
       "      <td>117</td>\n",
       "    </tr>\n",
       "    <tr>\n",
       "      <th>5</th>\n",
       "      <td>13</td>\n",
       "      <td>68</td>\n",
       "    </tr>\n",
       "    <tr>\n",
       "      <th>6</th>\n",
       "      <td>2</td>\n",
       "      <td>12</td>\n",
       "    </tr>\n",
       "    <tr>\n",
       "      <th>7</th>\n",
       "      <td>17</td>\n",
       "      <td>62</td>\n",
       "    </tr>\n",
       "    <tr>\n",
       "      <th>8</th>\n",
       "      <td>1</td>\n",
       "      <td>3</td>\n",
       "    </tr>\n",
       "    <tr>\n",
       "      <th>9</th>\n",
       "      <td>2</td>\n",
       "      <td>26</td>\n",
       "    </tr>\n",
       "    <tr>\n",
       "      <th>10</th>\n",
       "      <td>1</td>\n",
       "      <td>23</td>\n",
       "    </tr>\n",
       "    <tr>\n",
       "      <th>11</th>\n",
       "      <td>1</td>\n",
       "      <td>17</td>\n",
       "    </tr>\n",
       "    <tr>\n",
       "      <th>12</th>\n",
       "      <td>36</td>\n",
       "      <td>90</td>\n",
       "    </tr>\n",
       "    <tr>\n",
       "      <th>13</th>\n",
       "      <td>2</td>\n",
       "      <td>41</td>\n",
       "    </tr>\n",
       "    <tr>\n",
       "      <th>14</th>\n",
       "      <td>1</td>\n",
       "      <td>2</td>\n",
       "    </tr>\n",
       "    <tr>\n",
       "      <th>15</th>\n",
       "      <td>17</td>\n",
       "      <td>66</td>\n",
       "    </tr>\n",
       "    <tr>\n",
       "      <th>16</th>\n",
       "      <td>1</td>\n",
       "      <td>10</td>\n",
       "    </tr>\n",
       "    <tr>\n",
       "      <th>17</th>\n",
       "      <td>8</td>\n",
       "      <td>55</td>\n",
       "    </tr>\n",
       "    <tr>\n",
       "      <th>18</th>\n",
       "      <td>1</td>\n",
       "      <td>3</td>\n",
       "    </tr>\n",
       "    <tr>\n",
       "      <th>19</th>\n",
       "      <td>20</td>\n",
       "      <td>60</td>\n",
       "    </tr>\n",
       "  </tbody>\n",
       "</table>\n",
       "</div>"
      ],
      "text/plain": [
       "                min  max\n",
       "cluster_number          \n",
       "0                41   95\n",
       "1                 1   19\n",
       "2                 1    8\n",
       "3                 8   44\n",
       "4                56  117\n",
       "5                13   68\n",
       "6                 2   12\n",
       "7                17   62\n",
       "8                 1    3\n",
       "9                 2   26\n",
       "10                1   23\n",
       "11                1   17\n",
       "12               36   90\n",
       "13                2   41\n",
       "14                1    2\n",
       "15               17   66\n",
       "16                1   10\n",
       "17                8   55\n",
       "18                1    3\n",
       "19               20   60"
      ]
     },
     "execution_count": 73,
     "metadata": {},
     "output_type": "execute_result"
    }
   ],
   "source": [
    "# Find out minimum and max value of tackels column for each cluster \n",
    "data.groupby('cluster_number').aggregate(['min', 'max'])['Tackles']"
   ]
  },
  {
   "cell_type": "code",
   "execution_count": 79,
   "id": "e6dd7a26",
   "metadata": {},
   "outputs": [],
   "source": [
    "# build clusters on weighted version \n",
    "data_scaled_bkp[:,0] = data_scaled_bkp[:,0]*7\n",
    "kmeans1 = cluster.KMeans(n_clusters=20, init=\"k-means++\", random_state=20)\n",
    "kmeans1 = kmeans.fit(data_scaled_bkp) "
   ]
  },
  {
   "cell_type": "code",
   "execution_count": 80,
   "id": "e7e6028e",
   "metadata": {},
   "outputs": [
    {
     "data": {
      "text/html": [
       "<div>\n",
       "<style scoped>\n",
       "    .dataframe tbody tr th:only-of-type {\n",
       "        vertical-align: middle;\n",
       "    }\n",
       "\n",
       "    .dataframe tbody tr th {\n",
       "        vertical-align: top;\n",
       "    }\n",
       "\n",
       "    .dataframe thead th {\n",
       "        text-align: right;\n",
       "    }\n",
       "</style>\n",
       "<table border=\"1\" class=\"dataframe\">\n",
       "  <thead>\n",
       "    <tr style=\"text-align: right;\">\n",
       "      <th></th>\n",
       "      <th>min</th>\n",
       "      <th>max</th>\n",
       "    </tr>\n",
       "    <tr>\n",
       "      <th>cluster_number_n</th>\n",
       "      <th></th>\n",
       "      <th></th>\n",
       "    </tr>\n",
       "  </thead>\n",
       "  <tbody>\n",
       "    <tr>\n",
       "      <th>0</th>\n",
       "      <td>41</td>\n",
       "      <td>46</td>\n",
       "    </tr>\n",
       "    <tr>\n",
       "      <th>1</th>\n",
       "      <td>1</td>\n",
       "      <td>4</td>\n",
       "    </tr>\n",
       "    <tr>\n",
       "      <th>2</th>\n",
       "      <td>94</td>\n",
       "      <td>101</td>\n",
       "    </tr>\n",
       "    <tr>\n",
       "      <th>3</th>\n",
       "      <td>12</td>\n",
       "      <td>16</td>\n",
       "    </tr>\n",
       "    <tr>\n",
       "      <th>4</th>\n",
       "      <td>33</td>\n",
       "      <td>37</td>\n",
       "    </tr>\n",
       "    <tr>\n",
       "      <th>5</th>\n",
       "      <td>65</td>\n",
       "      <td>73</td>\n",
       "    </tr>\n",
       "    <tr>\n",
       "      <th>6</th>\n",
       "      <td>22</td>\n",
       "      <td>27</td>\n",
       "    </tr>\n",
       "    <tr>\n",
       "      <th>7</th>\n",
       "      <td>2</td>\n",
       "      <td>7</td>\n",
       "    </tr>\n",
       "    <tr>\n",
       "      <th>8</th>\n",
       "      <td>53</td>\n",
       "      <td>58</td>\n",
       "    </tr>\n",
       "    <tr>\n",
       "      <th>9</th>\n",
       "      <td>104</td>\n",
       "      <td>117</td>\n",
       "    </tr>\n",
       "    <tr>\n",
       "      <th>10</th>\n",
       "      <td>7</td>\n",
       "      <td>12</td>\n",
       "    </tr>\n",
       "    <tr>\n",
       "      <th>11</th>\n",
       "      <td>1</td>\n",
       "      <td>3</td>\n",
       "    </tr>\n",
       "    <tr>\n",
       "      <th>12</th>\n",
       "      <td>59</td>\n",
       "      <td>63</td>\n",
       "    </tr>\n",
       "    <tr>\n",
       "      <th>13</th>\n",
       "      <td>83</td>\n",
       "      <td>90</td>\n",
       "    </tr>\n",
       "    <tr>\n",
       "      <th>14</th>\n",
       "      <td>28</td>\n",
       "      <td>32</td>\n",
       "    </tr>\n",
       "    <tr>\n",
       "      <th>15</th>\n",
       "      <td>37</td>\n",
       "      <td>40</td>\n",
       "    </tr>\n",
       "    <tr>\n",
       "      <th>16</th>\n",
       "      <td>1</td>\n",
       "      <td>5</td>\n",
       "    </tr>\n",
       "    <tr>\n",
       "      <th>17</th>\n",
       "      <td>17</td>\n",
       "      <td>21</td>\n",
       "    </tr>\n",
       "    <tr>\n",
       "      <th>18</th>\n",
       "      <td>47</td>\n",
       "      <td>52</td>\n",
       "    </tr>\n",
       "    <tr>\n",
       "      <th>19</th>\n",
       "      <td>74</td>\n",
       "      <td>81</td>\n",
       "    </tr>\n",
       "  </tbody>\n",
       "</table>\n",
       "</div>"
      ],
      "text/plain": [
       "                  min  max\n",
       "cluster_number_n          \n",
       "0                  41   46\n",
       "1                   1    4\n",
       "2                  94  101\n",
       "3                  12   16\n",
       "4                  33   37\n",
       "5                  65   73\n",
       "6                  22   27\n",
       "7                   2    7\n",
       "8                  53   58\n",
       "9                 104  117\n",
       "10                  7   12\n",
       "11                  1    3\n",
       "12                 59   63\n",
       "13                 83   90\n",
       "14                 28   32\n",
       "15                 37   40\n",
       "16                  1    5\n",
       "17                 17   21\n",
       "18                 47   52\n",
       "19                 74   81"
      ]
     },
     "execution_count": 80,
     "metadata": {},
     "output_type": "execute_result"
    }
   ],
   "source": [
    "data['cluster_number_n'] = kmeans1.labels_ \n",
    "data.groupby('cluster_number_n').aggregate(['min', 'max'])['Tackles']"
   ]
  },
  {
   "cell_type": "code",
   "execution_count": 76,
   "id": "b0f83260",
   "metadata": {},
   "outputs": [
    {
     "data": {
      "text/plain": [
       "array([[-0.21484417, -0.55356335,  0.19231802, ...,  0.72211922,\n",
       "        -0.0331406 ,  0.20763391],\n",
       "       [ 1.08307025, -0.56411628, -0.36985665, ...,  0.7741784 ,\n",
       "         1.87028208, -0.05452552],\n",
       "       [ 0.25712471, -0.47639505, -0.39662688, ..., -0.73374278,\n",
       "        -0.46142054, -0.09821876],\n",
       "       ...,\n",
       "       [-2.45669634,  0.22383583, -1.07480585, ..., -1.09815706,\n",
       "        -3.10520237, -0.88469705],\n",
       "       [-3.04665744, -1.37669189, -1.253274  , ..., -1.21663658,\n",
       "         0.69654158, -1.10316324],\n",
       "       [-3.16464966, -0.41637526, -1.23542719, ..., -1.2417686 ,\n",
       "         1.08080388, -1.05947   ]])"
      ]
     },
     "execution_count": 76,
     "metadata": {},
     "output_type": "execute_result"
    }
   ],
   "source": [
    "data_scaled_bkp"
   ]
  },
  {
   "cell_type": "code",
   "execution_count": null,
   "id": "901b3302",
   "metadata": {},
   "outputs": [],
   "source": [
    "# Weight on two columns \n",
    "data_scaled_bkp[:,0] = data_scaled_bkp[:,0]*5\n",
    "data_scaled_bkp[:,1] = data_scaled_bkp[:,1]*3\n",
    "kmeans1 = cluster.KMeans(n_clusters=20, init=\"k-means++\", random_state=20)\n",
    "kmeans1 = kmeans.fit(data_scaled_bkp) "
   ]
  },
  {
   "cell_type": "markdown",
   "id": "0f6abc50",
   "metadata": {},
   "source": [
    "### Optimal Number of clusters"
   ]
  },
  {
   "cell_type": "code",
   "execution_count": 85,
   "id": "4175cc4a",
   "metadata": {},
   "outputs": [],
   "source": [
    "from scipy.spatial.distance import cdist"
   ]
  },
  {
   "cell_type": "code",
   "execution_count": 94,
   "id": "4502f568",
   "metadata": {},
   "outputs": [
    {
     "name": "stderr",
     "output_type": "stream",
     "text": [
      "C:\\Users\\anparash\\Anaconda3\\lib\\site-packages\\sklearn\\cluster\\_kmeans.py:881: UserWarning: KMeans is known to have a memory leak on Windows with MKL, when there are less chunks than available threads. You can avoid it by setting the environment variable OMP_NUM_THREADS=2.\n",
      "  warnings.warn(\n"
     ]
    },
    {
     "data": {
      "image/png": "[encoded data removed]",
      "text/plain": [
       "<Figure size 432x288 with 1 Axes>"
      ]
     },
     "metadata": {
      "needs_background": "light"
     },
     "output_type": "display_data"
    }
   ],
   "source": [
    "## Elbow method\n",
    "from scipy.spatial.distance import cdist\n",
    "K=range(1,25)  # \n",
    "wss = []\n",
    "for k in K:\n",
    "    kmeans = cluster.KMeans(n_clusters=k,init=\"k-means++\")\n",
    "    kmeans.fit(data_scaled)   # Only thing to be changed in this code \n",
    "    wss.append(sum(np.min(cdist(data_scaled, kmeans.cluster_centers_, 'euclidean'), \n",
    "                                      axis=1)) / data_scaled.shape[0])\n",
    "\n",
    "plt.plot(K, wss, 'bx')\n",
    "plt.xlabel('k')\n",
    "plt.ylabel('Average distortion')\n",
    "plt.title('Selecting k with the Elbow Method')\n",
    "plt.show()"
   ]
  },
  {
   "cell_type": "code",
   "execution_count": 88,
   "id": "a999ebec",
   "metadata": {},
   "outputs": [
    {
     "name": "stderr",
     "output_type": "stream",
     "text": [
      "C:\\Users\\anparash\\Anaconda3\\lib\\site-packages\\sklearn\\cluster\\_kmeans.py:881: UserWarning: KMeans is known to have a memory leak on Windows with MKL, when there are less chunks than available threads. You can avoid it by setting the environment variable OMP_NUM_THREADS=2.\n",
      "  warnings.warn(\n"
     ]
    },
    {
     "data": {
      "text/plain": [
       "17.303839381589523"
      ]
     },
     "execution_count": 88,
     "metadata": {},
     "output_type": "execute_result"
    }
   ],
   "source": [
    "# With only one cluster \n",
    "kmeans1 = cluster.KMeans(n_clusters=1, init=\"k-means++\", random_state=20)\n",
    "kmeans1 = kmeans1.fit(data_scaled) \n",
    "(sum(np.min(cdist(data_scaled, kmeans1.cluster_centers_, 'euclidean'), axis=1)) / data_scaled.shape[0])"
   ]
  },
  {
   "cell_type": "code",
   "execution_count": 89,
   "id": "82e05d7a",
   "metadata": {},
   "outputs": [
    {
     "data": {
      "text/plain": [
       "9.678266610046396"
      ]
     },
     "execution_count": 89,
     "metadata": {},
     "output_type": "execute_result"
    }
   ],
   "source": [
    "# With two cluster \n",
    "kmeans2 = cluster.KMeans(n_clusters=2, init=\"k-means++\", random_state=20)\n",
    "kmeans2 = kmeans2.fit(data_scaled) \n",
    "(sum(np.min(cdist(data_scaled, kmeans2.cluster_centers_, 'euclidean'), axis=1)) / data_scaled.shape[0])"
   ]
  },
  {
   "cell_type": "code",
   "execution_count": 91,
   "id": "08cbe007",
   "metadata": {},
   "outputs": [
    {
     "data": {
      "text/plain": [
       "6.925735315724329"
      ]
     },
     "execution_count": 91,
     "metadata": {},
     "output_type": "execute_result"
    }
   ],
   "source": [
    "# With three cluster \n",
    "kmeans3 = cluster.KMeans(n_clusters=3, init=\"k-means++\", random_state=20)\n",
    "kmeans3 = kmeans3.fit(data_scaled) \n",
    "(sum(np.min(cdist(data_scaled, kmeans3.cluster_centers_, 'euclidean'), axis=1)) / data_scaled.shape[0])"
   ]
  },
  {
   "cell_type": "code",
   "execution_count": 92,
   "id": "a4bca548",
   "metadata": {},
   "outputs": [
    {
     "data": {
      "text/plain": [
       "1.9981079970609434"
      ]
     },
     "execution_count": 92,
     "metadata": {},
     "output_type": "execute_result"
    }
   ],
   "source": [
    "# With three cluster \n",
    "kmeans20 = cluster.KMeans(n_clusters=20, init=\"k-means++\", random_state=20)\n",
    "kmeans20 = kmeans20.fit(data_scaled) \n",
    "(sum(np.min(cdist(data_scaled, kmeans20.cluster_centers_, 'euclidean'), axis=1)) / data_scaled.shape[0])"
   ]
  },
  {
   "cell_type": "code",
   "execution_count": null,
   "id": "3e23752d",
   "metadata": {},
   "outputs": [],
   "source": [
    "# Silhouette Score \n",
    "# An indication of how well your clusters are \n",
    "# It is a number between +1 to -1 \n",
    "# +1 :- Clusters are well apart from each other and clearly identifiable \n",
    "# 0 :- Clusters tends to come closer to each other \n",
    "# -1 :- Clusters are assigned in wrong away "
   ]
  },
  {
   "cell_type": "code",
   "execution_count": 96,
   "id": "21f18921",
   "metadata": {},
   "outputs": [
    {
     "ename": "NameError",
     "evalue": "name 'labels' is not defined",
     "output_type": "error",
     "traceback": [
      "\u001b[1;31m---------------------------------------------------------------------------\u001b[0m",
      "\u001b[1;31mNameError\u001b[0m                                 Traceback (most recent call last)",
      "\u001b[1;32m<ipython-input-96-89869c0437a9>\u001b[0m in \u001b[0;36m<module>\u001b[1;34m\u001b[0m\n\u001b[0;32m      1\u001b[0m \u001b[1;32mimport\u001b[0m \u001b[0msklearn\u001b[0m\u001b[1;33m.\u001b[0m\u001b[0mmetrics\u001b[0m \u001b[1;32mas\u001b[0m \u001b[0mmetrics\u001b[0m\u001b[1;33m\u001b[0m\u001b[1;33m\u001b[0m\u001b[0m\n\u001b[1;32m----> 2\u001b[1;33m \u001b[0mmetrics\u001b[0m\u001b[1;33m.\u001b[0m\u001b[0msilhouette_score\u001b[0m\u001b[1;33m(\u001b[0m\u001b[0mdata_scaled\u001b[0m\u001b[1;33m,\u001b[0m \u001b[0mlabels\u001b[0m\u001b[1;33m,\u001b[0m \u001b[0mmetrics\u001b[0m \u001b[1;33m=\u001b[0m \u001b[1;34m\"eculidean\"\u001b[0m\u001b[1;33m)\u001b[0m\u001b[1;33m\u001b[0m\u001b[1;33m\u001b[0m\u001b[0m\n\u001b[0m",
      "\u001b[1;31mNameError\u001b[0m: name 'labels' is not defined"
     ]
    }
   ],
   "source": [
    "import sklearn.metrics as metrics"
   ]
  },
  {
   "cell_type": "code",
   "execution_count": 104,
   "id": "81a97c00",
   "metadata": {},
   "outputs": [
    {
     "data": {
      "text/plain": [
       "0.5612518525366821"
      ]
     },
     "execution_count": 104,
     "metadata": {},
     "output_type": "execute_result"
    }
   ],
   "source": [
    "labels = cluster.KMeans(n_clusters=4).fit(data_scaled).labels_\n",
    "metrics.silhouette_score(data_scaled, labels, metric = \"euclidean\")\n",
    "\n",
    "# Silhouette score when you are creating 4 clusters "
   ]
  },
  {
   "cell_type": "code",
   "execution_count": 102,
   "id": "a1369f1a",
   "metadata": {},
   "outputs": [
    {
     "data": {
      "text/plain": [
       "0.5191942356373112"
      ]
     },
     "execution_count": 102,
     "metadata": {},
     "output_type": "execute_result"
    }
   ],
   "source": [
    "labels = cluster.KMeans(n_clusters=6).fit(data_scaled).labels_\n",
    "metrics.silhouette_score(data_scaled, labels, metric = \"euclidean\")\n",
    "\n",
    "# Silhouette score when you are creating 6 clusters "
   ]
  },
  {
   "cell_type": "code",
   "execution_count": 100,
   "id": "687428e3",
   "metadata": {},
   "outputs": [
    {
     "data": {
      "text/plain": [
       "0.4592085199457241"
      ]
     },
     "execution_count": 100,
     "metadata": {},
     "output_type": "execute_result"
    }
   ],
   "source": [
    "labels = cluster.KMeans(n_clusters=7).fit(data_scaled).labels_\n",
    "metrics.silhouette_score(data_scaled, labels, metric = \"euclidean\")\n",
    "\n",
    "# Silhouette score when you are creating 7 clusters "
   ]
  },
  {
   "cell_type": "code",
   "execution_count": 101,
   "id": "519803e0",
   "metadata": {},
   "outputs": [
    {
     "data": {
      "text/plain": [
       "0.46517481412714784"
      ]
     },
     "execution_count": 101,
     "metadata": {},
     "output_type": "execute_result"
    }
   ],
   "source": [
    "labels = cluster.KMeans(n_clusters=8).fit(data_scaled).labels_\n",
    "metrics.silhouette_score(data_scaled, labels, metric = \"euclidean\")\n",
    "\n",
    "# Silhouette score when you are creating 8 clusters "
   ]
  },
  {
   "cell_type": "code",
   "execution_count": 103,
   "id": "d082b7af",
   "metadata": {},
   "outputs": [
    {
     "data": {
      "text/plain": [
       "0.2996508439920718"
      ]
     },
     "execution_count": 103,
     "metadata": {},
     "output_type": "execute_result"
    }
   ],
   "source": [
    "labels = cluster.KMeans(n_clusters=20).fit(data_scaled).labels_\n",
    "metrics.silhouette_score(data_scaled, labels, metric = \"euclidean\")\n",
    "\n",
    "# Silhouette score when you are creating 20 clusters "
   ]
  },
  {
   "cell_type": "markdown",
   "id": "0fa26f6a",
   "metadata": {},
   "source": [
    "## Hierachical Clustering"
   ]
  },
  {
   "cell_type": "code",
   "execution_count": 105,
   "id": "c37ec9ad",
   "metadata": {},
   "outputs": [],
   "source": [
    "dataset = pd.read_csv(\"C:/JS/Clustering_Python/Customers.csv\")"
   ]
  },
  {
   "cell_type": "code",
   "execution_count": 106,
   "id": "7aab85db",
   "metadata": {},
   "outputs": [
    {
     "data": {
      "text/html": [
       "<div>\n",
       "<style scoped>\n",
       "    .dataframe tbody tr th:only-of-type {\n",
       "        vertical-align: middle;\n",
       "    }\n",
       "\n",
       "    .dataframe tbody tr th {\n",
       "        vertical-align: top;\n",
       "    }\n",
       "\n",
       "    .dataframe thead th {\n",
       "        text-align: right;\n",
       "    }\n",
       "</style>\n",
       "<table border=\"1\" class=\"dataframe\">\n",
       "  <thead>\n",
       "    <tr style=\"text-align: right;\">\n",
       "      <th></th>\n",
       "      <th>CustomerID</th>\n",
       "      <th>Genre</th>\n",
       "      <th>Age</th>\n",
       "      <th>Annual Income (k$)</th>\n",
       "      <th>Spending Score (1-100)</th>\n",
       "    </tr>\n",
       "  </thead>\n",
       "  <tbody>\n",
       "    <tr>\n",
       "      <th>0</th>\n",
       "      <td>1</td>\n",
       "      <td>Male</td>\n",
       "      <td>19</td>\n",
       "      <td>15</td>\n",
       "      <td>39</td>\n",
       "    </tr>\n",
       "    <tr>\n",
       "      <th>1</th>\n",
       "      <td>2</td>\n",
       "      <td>Male</td>\n",
       "      <td>21</td>\n",
       "      <td>15</td>\n",
       "      <td>81</td>\n",
       "    </tr>\n",
       "    <tr>\n",
       "      <th>2</th>\n",
       "      <td>3</td>\n",
       "      <td>Female</td>\n",
       "      <td>20</td>\n",
       "      <td>16</td>\n",
       "      <td>6</td>\n",
       "    </tr>\n",
       "    <tr>\n",
       "      <th>3</th>\n",
       "      <td>4</td>\n",
       "      <td>Female</td>\n",
       "      <td>23</td>\n",
       "      <td>16</td>\n",
       "      <td>77</td>\n",
       "    </tr>\n",
       "    <tr>\n",
       "      <th>4</th>\n",
       "      <td>5</td>\n",
       "      <td>Female</td>\n",
       "      <td>31</td>\n",
       "      <td>17</td>\n",
       "      <td>40</td>\n",
       "    </tr>\n",
       "  </tbody>\n",
       "</table>\n",
       "</div>"
      ],
      "text/plain": [
       "   CustomerID   Genre  Age  Annual Income (k$)  Spending Score (1-100)\n",
       "0           1    Male   19                  15                      39\n",
       "1           2    Male   21                  15                      81\n",
       "2           3  Female   20                  16                       6\n",
       "3           4  Female   23                  16                      77\n",
       "4           5  Female   31                  17                      40"
      ]
     },
     "execution_count": 106,
     "metadata": {},
     "output_type": "execute_result"
    }
   ],
   "source": [
    "dataset.head()"
   ]
  },
  {
   "cell_type": "code",
   "execution_count": null,
   "id": "1b7643ef",
   "metadata": {},
   "outputs": [],
   "source": [
    "# Let's segment this data by using H-clust \n",
    "# Similarity features \n",
    "# Annual Income \n",
    "# Spending Score"
   ]
  },
  {
   "cell_type": "code",
   "execution_count": 107,
   "id": "f1b14f5c",
   "metadata": {},
   "outputs": [],
   "source": [
    "# Create a dataframe that contains only similarity features \n",
    "X = dataset.iloc[ :, [3,4]].values"
   ]
  },
  {
   "cell_type": "code",
   "execution_count": 109,
   "id": "831b164c",
   "metadata": {},
   "outputs": [],
   "source": [
    "#X"
   ]
  },
  {
   "cell_type": "code",
   "execution_count": 110,
   "id": "fb6ea08c",
   "metadata": {},
   "outputs": [],
   "source": [
    "# Create a dendrogram \n",
    "import scipy.cluster.hierarchy as sch"
   ]
  },
  {
   "cell_type": "code",
   "execution_count": 111,
   "id": "5d7fd85d",
   "metadata": {},
   "outputs": [
    {
     "data": {
      "image/png": "[encoded data removed]",
      "text/plain": [
       "<Figure size 432x288 with 1 Axes>"
      ]
     },
     "metadata": {
      "needs_background": "light"
     },
     "output_type": "display_data"
    }
   ],
   "source": [
    "dendogram = sch.dendrogram(sch.linkage(X, method='ward'))"
   ]
  },
  {
   "cell_type": "code",
   "execution_count": 112,
   "id": "4da886e3",
   "metadata": {},
   "outputs": [],
   "source": [
    "from sklearn.cluster import AgglomerativeClustering"
   ]
  },
  {
   "cell_type": "code",
   "execution_count": 113,
   "id": "fc17155e",
   "metadata": {},
   "outputs": [],
   "source": [
    "hc = AgglomerativeClustering(n_clusters=5, affinity = \"euclidean\", linkage = \"ward\")"
   ]
  },
  {
   "cell_type": "code",
   "execution_count": 114,
   "id": "168c5e7a",
   "metadata": {},
   "outputs": [],
   "source": [
    "y_hc = hc.fit_predict(X)"
   ]
  },
  {
   "cell_type": "code",
   "execution_count": 115,
   "id": "f7409db0",
   "metadata": {},
   "outputs": [
    {
     "data": {
      "text/plain": [
       "array([4, 3, 4, 3, 4, 3, 4, 3, 4, 3, 4, 3, 4, 3, 4, 3, 4, 3, 4, 3, 4, 3,\n",
       "       4, 3, 4, 3, 4, 3, 4, 3, 4, 3, 4, 3, 4, 3, 4, 3, 4, 3, 4, 3, 4, 1,\n",
       "       4, 1, 1, 1, 1, 1, 1, 1, 1, 1, 1, 1, 1, 1, 1, 1, 1, 1, 1, 1, 1, 1,\n",
       "       1, 1, 1, 1, 1, 1, 1, 1, 1, 1, 1, 1, 1, 1, 1, 1, 1, 1, 1, 1, 1, 1,\n",
       "       1, 1, 1, 1, 1, 1, 1, 1, 1, 1, 1, 1, 1, 1, 1, 1, 1, 1, 1, 1, 1, 1,\n",
       "       1, 1, 1, 1, 1, 1, 1, 1, 1, 1, 1, 1, 1, 2, 1, 2, 1, 2, 0, 2, 0, 2,\n",
       "       1, 2, 0, 2, 0, 2, 0, 2, 0, 2, 1, 2, 0, 2, 1, 2, 0, 2, 0, 2, 0, 2,\n",
       "       0, 2, 0, 2, 0, 2, 1, 2, 0, 2, 0, 2, 0, 2, 0, 2, 0, 2, 0, 2, 0, 2,\n",
       "       0, 2, 0, 2, 0, 2, 0, 2, 0, 2, 0, 2, 0, 2, 0, 2, 0, 2, 0, 2, 0, 2,\n",
       "       0, 2], dtype=int64)"
      ]
     },
     "execution_count": 115,
     "metadata": {},
     "output_type": "execute_result"
    }
   ],
   "source": [
    "y_hc"
   ]
  },
  {
   "cell_type": "code",
   "execution_count": 117,
   "id": "309d1613",
   "metadata": {},
   "outputs": [
    {
     "data": {
      "text/plain": [
       "array([[ 15,  39],\n",
       "       [ 15,  81],\n",
       "       [ 16,   6],\n",
       "       [ 16,  77],\n",
       "       [ 17,  40],\n",
       "       [ 17,  76],\n",
       "       [ 18,   6],\n",
       "       [ 18,  94],\n",
       "       [ 19,   3],\n",
       "       [ 19,  72],\n",
       "       [ 19,  14],\n",
       "       [ 19,  99],\n",
       "       [ 20,  15],\n",
       "       [ 20,  77],\n",
       "       [ 20,  13],\n",
       "       [ 20,  79],\n",
       "       [ 21,  35],\n",
       "       [ 21,  66],\n",
       "       [ 23,  29],\n",
       "       [ 23,  98],\n",
       "       [ 24,  35],\n",
       "       [ 24,  73],\n",
       "       [ 25,   5],\n",
       "       [ 25,  73],\n",
       "       [ 28,  14],\n",
       "       [ 28,  82],\n",
       "       [ 28,  32],\n",
       "       [ 28,  61],\n",
       "       [ 29,  31],\n",
       "       [ 29,  87],\n",
       "       [ 30,   4],\n",
       "       [ 30,  73],\n",
       "       [ 33,   4],\n",
       "       [ 33,  92],\n",
       "       [ 33,  14],\n",
       "       [ 33,  81],\n",
       "       [ 34,  17],\n",
       "       [ 34,  73],\n",
       "       [ 37,  26],\n",
       "       [ 37,  75],\n",
       "       [ 38,  35],\n",
       "       [ 38,  92],\n",
       "       [ 39,  36],\n",
       "       [ 39,  61],\n",
       "       [ 39,  28],\n",
       "       [ 39,  65],\n",
       "       [ 40,  55],\n",
       "       [ 40,  47],\n",
       "       [ 40,  42],\n",
       "       [ 40,  42],\n",
       "       [ 42,  52],\n",
       "       [ 42,  60],\n",
       "       [ 43,  54],\n",
       "       [ 43,  60],\n",
       "       [ 43,  45],\n",
       "       [ 43,  41],\n",
       "       [ 44,  50],\n",
       "       [ 44,  46],\n",
       "       [ 46,  51],\n",
       "       [ 46,  46],\n",
       "       [ 46,  56],\n",
       "       [ 46,  55],\n",
       "       [ 47,  52],\n",
       "       [ 47,  59],\n",
       "       [ 48,  51],\n",
       "       [ 48,  59],\n",
       "       [ 48,  50],\n",
       "       [ 48,  48],\n",
       "       [ 48,  59],\n",
       "       [ 48,  47],\n",
       "       [ 49,  55],\n",
       "       [ 49,  42],\n",
       "       [ 50,  49],\n",
       "       [ 50,  56],\n",
       "       [ 54,  47],\n",
       "       [ 54,  54],\n",
       "       [ 54,  53],\n",
       "       [ 54,  48],\n",
       "       [ 54,  52],\n",
       "       [ 54,  42],\n",
       "       [ 54,  51],\n",
       "       [ 54,  55],\n",
       "       [ 54,  41],\n",
       "       [ 54,  44],\n",
       "       [ 54,  57],\n",
       "       [ 54,  46],\n",
       "       [ 57,  58],\n",
       "       [ 57,  55],\n",
       "       [ 58,  60],\n",
       "       [ 58,  46],\n",
       "       [ 59,  55],\n",
       "       [ 59,  41],\n",
       "       [ 60,  49],\n",
       "       [ 60,  40],\n",
       "       [ 60,  42],\n",
       "       [ 60,  52],\n",
       "       [ 60,  47],\n",
       "       [ 60,  50],\n",
       "       [ 61,  42],\n",
       "       [ 61,  49],\n",
       "       [ 62,  41],\n",
       "       [ 62,  48],\n",
       "       [ 62,  59],\n",
       "       [ 62,  55],\n",
       "       [ 62,  56],\n",
       "       [ 62,  42],\n",
       "       [ 63,  50],\n",
       "       [ 63,  46],\n",
       "       [ 63,  43],\n",
       "       [ 63,  48],\n",
       "       [ 63,  52],\n",
       "       [ 63,  54],\n",
       "       [ 64,  42],\n",
       "       [ 64,  46],\n",
       "       [ 65,  48],\n",
       "       [ 65,  50],\n",
       "       [ 65,  43],\n",
       "       [ 65,  59],\n",
       "       [ 67,  43],\n",
       "       [ 67,  57],\n",
       "       [ 67,  56],\n",
       "       [ 67,  40],\n",
       "       [ 69,  58],\n",
       "       [ 69,  91],\n",
       "       [ 70,  29],\n",
       "       [ 70,  77],\n",
       "       [ 71,  35],\n",
       "       [ 71,  95],\n",
       "       [ 71,  11],\n",
       "       [ 71,  75],\n",
       "       [ 71,   9],\n",
       "       [ 71,  75],\n",
       "       [ 72,  34],\n",
       "       [ 72,  71],\n",
       "       [ 73,   5],\n",
       "       [ 73,  88],\n",
       "       [ 73,   7],\n",
       "       [ 73,  73],\n",
       "       [ 74,  10],\n",
       "       [ 74,  72],\n",
       "       [ 75,   5],\n",
       "       [ 75,  93],\n",
       "       [ 76,  40],\n",
       "       [ 76,  87],\n",
       "       [ 77,  12],\n",
       "       [ 77,  97],\n",
       "       [ 77,  36],\n",
       "       [ 77,  74],\n",
       "       [ 78,  22],\n",
       "       [ 78,  90],\n",
       "       [ 78,  17],\n",
       "       [ 78,  88],\n",
       "       [ 78,  20],\n",
       "       [ 78,  76],\n",
       "       [ 78,  16],\n",
       "       [ 78,  89],\n",
       "       [ 78,   1],\n",
       "       [ 78,  78],\n",
       "       [ 78,   1],\n",
       "       [ 78,  73],\n",
       "       [ 79,  35],\n",
       "       [ 79,  83],\n",
       "       [ 81,   5],\n",
       "       [ 81,  93],\n",
       "       [ 85,  26],\n",
       "       [ 85,  75],\n",
       "       [ 86,  20],\n",
       "       [ 86,  95],\n",
       "       [ 87,  27],\n",
       "       [ 87,  63],\n",
       "       [ 87,  13],\n",
       "       [ 87,  75],\n",
       "       [ 87,  10],\n",
       "       [ 87,  92],\n",
       "       [ 88,  13],\n",
       "       [ 88,  86],\n",
       "       [ 88,  15],\n",
       "       [ 88,  69],\n",
       "       [ 93,  14],\n",
       "       [ 93,  90],\n",
       "       [ 97,  32],\n",
       "       [ 97,  86],\n",
       "       [ 98,  15],\n",
       "       [ 98,  88],\n",
       "       [ 99,  39],\n",
       "       [ 99,  97],\n",
       "       [101,  24],\n",
       "       [101,  68],\n",
       "       [103,  17],\n",
       "       [103,  85],\n",
       "       [103,  23],\n",
       "       [103,  69],\n",
       "       [113,   8],\n",
       "       [113,  91],\n",
       "       [120,  16],\n",
       "       [120,  79],\n",
       "       [126,  28],\n",
       "       [126,  74],\n",
       "       [137,  18],\n",
       "       [137,  83]], dtype=int64)"
      ]
     },
     "execution_count": 117,
     "metadata": {},
     "output_type": "execute_result"
    }
   ],
   "source": [
    "X"
   ]
  },
  {
   "cell_type": "code",
   "execution_count": 116,
   "id": "21f5aae4",
   "metadata": {},
   "outputs": [
    {
     "data": {
      "text/plain": [
       "array([ 71,  71,  73,  73,  74,  75,  77,  78,  78,  78,  78,  78,  78,\n",
       "        81,  85,  86,  87,  87,  87,  88,  88,  93,  97,  98,  99, 101,\n",
       "       103, 103, 113, 120, 126, 137], dtype=int64)"
      ]
     },
     "execution_count": 116,
     "metadata": {},
     "output_type": "execute_result"
    }
   ],
   "source": [
    "#Annual income of people in cluster 0 \n",
    "X[y_hc==0,0]"
   ]
  },
  {
   "cell_type": "code",
   "execution_count": 118,
   "id": "0fa7350a",
   "metadata": {},
   "outputs": [
    {
     "data": {
      "text/plain": [
       "array([11,  9,  5,  7, 10,  5, 12, 22, 17, 20, 16,  1,  1,  5, 26, 20, 27,\n",
       "       13, 10, 13, 15, 14, 32, 15, 39, 24, 17, 23,  8, 16, 28, 18],\n",
       "      dtype=int64)"
      ]
     },
     "execution_count": 118,
     "metadata": {},
     "output_type": "execute_result"
    }
   ],
   "source": [
    "#spend of people in cluster 0 \n",
    "X[y_hc==0,1]"
   ]
  },
  {
   "cell_type": "code",
   "execution_count": 119,
   "id": "589a61f2",
   "metadata": {},
   "outputs": [
    {
     "data": {
      "text/plain": [
       "array([15, 16, 17, 18, 19, 19, 20, 20, 21, 23, 24, 25, 28, 28, 29, 30, 33,\n",
       "       33, 34, 37, 38, 39, 39], dtype=int64)"
      ]
     },
     "execution_count": 119,
     "metadata": {},
     "output_type": "execute_result"
    }
   ],
   "source": [
    "#Annual income of people in cluster 4\n",
    "X[y_hc==4,0]"
   ]
  },
  {
   "cell_type": "code",
   "execution_count": 122,
   "id": "f04d03f8",
   "metadata": {},
   "outputs": [
    {
     "data": {
      "text/plain": [
       "<matplotlib.legend.Legend at 0x2161a50a8e0>"
      ]
     },
     "execution_count": 122,
     "metadata": {},
     "output_type": "execute_result"
    },
    {
     "data": {
      "image/png": "[encoded data removed]",
      "text/plain": [
       "<Figure size 432x288 with 1 Axes>"
      ]
     },
     "metadata": {
      "needs_background": "light"
     },
     "output_type": "display_data"
    }
   ],
   "source": [
    "#lets visualize \n",
    "plt.scatter(X[y_hc==0,0], X[y_hc==0,1], c = \"red\", label = \"cluster-1\")\n",
    "plt.scatter(X[y_hc==1,0], X[y_hc==1,1], c = \"blue\", label = \"cluster-2\")\n",
    "plt.scatter(X[y_hc==2,0], X[y_hc==2,1], c = \"green\", label = \"cluster-3\")\n",
    "plt.scatter(X[y_hc==3,0], X[y_hc==3,1], c = \"magenta\", label = \"cluster-4\")\n",
    "plt.scatter(X[y_hc==4,0], X[y_hc==4,1], c = \"yellow\", label = \"cluster-5\")\n",
    "plt.title(\"Cluster of customers\")\n",
    "plt.xlabel(\"Annual Income\")\n",
    "plt.ylabel(\"Spending Score\")\n",
    "plt.legend()\n"
   ]
  },
  {
   "cell_type": "code",
   "execution_count": null,
   "id": "18c6d750",
   "metadata": {},
   "outputs": [],
   "source": [
    "# Advantage of H-Clust \n",
    "\n",
    "# 1 - You need not to have prior information of number of clusters \n",
    "# 2 - This can be supportive approach to find out optimal number of clusters \n",
    "\n",
    "# Disadvantage \n",
    "\n",
    "# - Larage space and time complexity makes it non-useable when dataset is bigger"
   ]
  }
 ],
 "metadata": {
  "kernelspec": {
   "display_name": "Python 3",
   "language": "python",
   "name": "python3"
  },
  "language_info": {
   "codemirror_mode": {
    "name": "ipython",
    "version": 3
   },
   "file_extension": ".py",
   "mimetype": "text/x-python",
   "name": "python",
   "nbconvert_exporter": "python",
   "pygments_lexer": "ipython3",
   "version": "3.8.8"
  }
 },
 "nbformat": 4,
 "nbformat_minor": 5
}
